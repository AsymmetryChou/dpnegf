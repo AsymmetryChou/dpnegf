{
 "cells": [
  {
   "cell_type": "markdown",
   "id": "078cef78",
   "metadata": {},
   "source": [
    "# Tutorial 2:  Quantum Transport in 2D materials"
   ]
  },
  {
   "cell_type": "code",
   "execution_count": 1,
   "id": "026e2584",
   "metadata": {},
   "outputs": [
    {
     "name": "stdout",
     "output_type": "stream",
     "text": [
      "band.json\tgraphene.vasp\tlatest_dptb_b3.300_c2.600_w0.200.pth\n"
     ]
    }
   ],
   "source": [
    "import os\n",
    "from pathlib import Path\n",
    "workdir='../../examples/graphene'\n",
    "wd = Path(workdir)\n",
    "if not wd.is_dir():\n",
    "    raise FileNotFoundError(f\"Workdir '{wd}' not found. Please adjust 'workdir'.\")\n",
    "os.chdir(wd)\n",
    "print(\"\\t\".join(sorted(os.listdir(\".\"))))"
   ]
  },
  {
   "cell_type": "code",
   "execution_count": 2,
   "id": "664ee3cc",
   "metadata": {},
   "outputs": [
    {
     "name": "stderr",
     "output_type": "stream",
     "text": [
      "DPNEGF INFO    ================================================================================\n",
      "DPNEGF INFO                                      Version Info                                  \n",
      "DPNEGF INFO    --------------------------------------------------------------------------------\n",
      "DPNEGF INFO    DPNEGF               : 0.1.1.dev97+bccd946\n",
      "DPNEGF INFO    DeePTB               : 2.1.2.dev53+5b97981\n",
      "DPNEGF INFO    ================================================================================\n",
      "\n"
     ]
    }
   ],
   "source": [
    "from dpnegf.utils.loggers import set_log_handles\n",
    "import logging\n",
    "from pathlib import Path\n",
    "\n",
    "\n",
    "results_path = '../band_plot'\n",
    "log_path = os.path.join(results_path, 'log')\n",
    "log_level = logging.INFO\n",
    "set_log_handles(log_level, Path(log_path) if log_path else None)"
   ]
  },
  {
   "cell_type": "code",
   "execution_count": null,
   "id": "5c4797d7",
   "metadata": {},
   "outputs": [
    {
     "ename": "KeyError",
     "evalue": "'config'",
     "output_type": "error",
     "traceback": [
      "\u001b[0;31m---------------------------------------------------------------------------\u001b[0m",
      "\u001b[0;31mKeyError\u001b[0m                                  Traceback (most recent call last)",
      "Cell \u001b[0;32mIn[3], line 5\u001b[0m\n\u001b[1;32m      1\u001b[0m \u001b[38;5;28;01mfrom\u001b[39;00m\u001b[38;5;250m \u001b[39m\u001b[38;5;21;01mdptb\u001b[39;00m\u001b[38;5;21;01m.\u001b[39;00m\u001b[38;5;21;01mnn\u001b[39;00m\u001b[38;5;21;01m.\u001b[39;00m\u001b[38;5;21;01mbuild\u001b[39;00m\u001b[38;5;250m \u001b[39m\u001b[38;5;28;01mimport\u001b[39;00m build_model\n\u001b[1;32m      3\u001b[0m model \u001b[38;5;241m=\u001b[39m  \u001b[38;5;124m\"\u001b[39m\u001b[38;5;124mlatest_dptb_b3.300_c2.600_w0.200.pth\u001b[39m\u001b[38;5;124m\"\u001b[39m \u001b[38;5;66;03m# the model for demonstration\u001b[39;00m\n\u001b[0;32m----> 5\u001b[0m model \u001b[38;5;241m=\u001b[39m \u001b[43mbuild_model\u001b[49m\u001b[43m(\u001b[49m\u001b[43mmodel\u001b[49m\u001b[43m)\u001b[49m\n",
      "File \u001b[0;32m/opt/mamba/envs/dpnegf-dev/lib/python3.10/site-packages/dptb/nn/build.py:50\u001b[0m, in \u001b[0;36mbuild_model\u001b[0;34m(checkpoint, model_options, common_options, no_check)\u001b[0m\n\u001b[1;32m     48\u001b[0m \u001b[38;5;28;01melse\u001b[39;00m:\n\u001b[1;32m     49\u001b[0m     f \u001b[38;5;241m=\u001b[39m torch\u001b[38;5;241m.\u001b[39mload(checkpoint, map_location\u001b[38;5;241m=\u001b[39m\u001b[38;5;124m\"\u001b[39m\u001b[38;5;124mcpu\u001b[39m\u001b[38;5;124m\"\u001b[39m, weights_only\u001b[38;5;241m=\u001b[39m\u001b[38;5;28;01mFalse\u001b[39;00m)\n\u001b[0;32m---> 50\u001b[0m     ckptconfig \u001b[38;5;241m=\u001b[39m \u001b[43mf\u001b[49m\u001b[43m[\u001b[49m\u001b[38;5;124;43m'\u001b[39;49m\u001b[38;5;124;43mconfig\u001b[39;49m\u001b[38;5;124;43m'\u001b[39;49m\u001b[43m]\u001b[49m\n\u001b[1;32m     51\u001b[0m     \u001b[38;5;28;01mdel\u001b[39;00m f\n\u001b[1;32m     53\u001b[0m \u001b[38;5;66;03m# init model from checkpoint\u001b[39;00m\n",
      "\u001b[0;31mKeyError\u001b[0m: 'config'"
     ]
    }
   ],
   "source": [
    "from dptb.nn.build import build_model\n",
    "\n",
    "model =  \"latest_dptb_b3.300_c2.600_w0.200.pth\" # the model for demonstration\n",
    "\n",
    "model = build_model(model,\n",
    "                    model_options= model_json['model_options'],\n",
    "                    common_options=model_json['common_options'])"
   ]
  },
  {
   "cell_type": "code",
   "execution_count": null,
   "id": "1041ae1c",
   "metadata": {},
   "outputs": [],
   "source": [
    "from dptb.postprocess.bandstructure.band import Band\n",
    "import shutil\n",
    "\n",
    "task_options = {\n",
    "        \"task\": \"band\",\n",
    "        \"kline_type\":\"abacus\",\n",
    "        \"kpath\":[\n",
    "                [0, 0, 0, 50],\n",
    "                [0.5, 0, 0, 50],\n",
    "                [0.3333333, 0.3333333, 0, 50],\n",
    "                [0, 0, 0, 1]\n",
    "                ],\n",
    "        \"klabels\":[\"G\", \"M\", \"K\", \"G\"],\n",
    "        \"emin\":-20,\n",
    "        \"emax\": 20,\n",
    "        \"nel_atom\":{\"C\": 4} \n",
    "\n",
    "       }\n",
    "\n",
    "if os.path.isdir(results_path):\n",
    "    shutil.rmtree(results_path, ignore_errors=True) \n",
    "\n",
    "band = Band(model, results_path)\n",
    "AtomicData_options = {\"r_max\": 3.0, \"pbc\": True}\n",
    "band.get_bands(data = uni_cell_atoms, \n",
    "               kpath_kwargs = task_options,\n",
    "               AtomicData_options = AtomicData_options)\n",
    "band.band_plot(emin = task_options['emin'],\n",
    "               emax = task_options['emax'])"
   ]
  }
 ],
 "metadata": {
  "kernelspec": {
   "display_name": "dpnegf-dev",
   "language": "python",
   "name": "python3"
  },
  "language_info": {
   "codemirror_mode": {
    "name": "ipython",
    "version": 3
   },
   "file_extension": ".py",
   "mimetype": "text/x-python",
   "name": "python",
   "nbconvert_exporter": "python",
   "pygments_lexer": "ipython3",
   "version": "3.10.16"
  }
 },
 "nbformat": 4,
 "nbformat_minor": 5
}
