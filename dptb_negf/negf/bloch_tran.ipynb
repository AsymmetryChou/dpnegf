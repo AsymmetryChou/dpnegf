{
 "cells": [
  {
   "cell_type": "code",
   "execution_count": 1,
   "metadata": {},
   "outputs": [
    {
     "name": "stderr",
     "output_type": "stream",
     "text": [
      "TBPLaS is not installed. Thus the TBPLaS is not available, Please install it first.\n",
      "/opt/mamba/envs/deeptb-dev/lib/python3.10/site-packages/torch/overrides.py:110: UserWarning: 'has_cuda' is deprecated, please use 'torch.backends.cuda.is_built()'\n",
      "  torch.has_cuda,\n",
      "/opt/mamba/envs/deeptb-dev/lib/python3.10/site-packages/torch/overrides.py:111: UserWarning: 'has_cudnn' is deprecated, please use 'torch.backends.cudnn.is_available()'\n",
      "  torch.has_cudnn,\n",
      "/opt/mamba/envs/deeptb-dev/lib/python3.10/site-packages/torch/overrides.py:117: UserWarning: 'has_mps' is deprecated, please use 'torch.backends.mps.is_built()'\n",
      "  torch.has_mps,\n",
      "/opt/mamba/envs/deeptb-dev/lib/python3.10/site-packages/torch/overrides.py:118: UserWarning: 'has_mkldnn' is deprecated, please use 'torch.backends.mkldnn.is_available()'\n",
      "  torch.has_mkldnn,\n",
      "/opt/mamba/envs/deeptb-dev/lib/python3.10/site-packages/torch/jit/_check.py:178: UserWarning: The TorchScript type system doesn't support instance-level annotations on empty non-base types in `__init__`. Instead, either 1) use a type annotation in the class body, or 2) wrap the type in `torch.jit.Attribute`.\n",
      "  warnings.warn(\n",
      "DEEPTB INFO    ------ k-point for NEGF -----\n",
      "DEEPTB INFO    Gamma Center: True\n",
      "DEEPTB INFO    Time Reversal: True\n",
      "DEEPTB INFO    k-points Num: 4\n",
      "DEEPTB INFO    k-points: [[0.  0.  0. ]\n",
      " [0.  0.5 0. ]\n",
      " [0.5 0.  0. ]\n",
      " [0.5 0.5 0. ]]\n",
      "DEEPTB INFO    k-points weights: [0.25 0.25 0.25 0.25]\n",
      "DEEPTB INFO    --------------------------------\n",
      "DEEPTB INFO    The AtomicData_options is {'r_max': 7.4}\n",
      "DEEPTB INFO    The structure is sorted lexicographically in this version!\n",
      "/opt/mamba/envs/deeptb-dev/lib/python3.10/site-packages/torch/nested/__init__.py:58: UserWarning: The PyTorch API of nested tensors is in prototype stage and will change in the near future. (Triggered internally at ../aten/src/ATen/NestedTensorImpl.cpp:178.)\n",
      "  return torch._nested_tensor_from_tensor_list(tensor_list, dtype, None, device, None)\n"
     ]
    },
    {
     "ename": "KeyboardInterrupt",
     "evalue": "",
     "output_type": "error",
     "traceback": [
      "\u001b[0;31m---------------------------------------------------------------------------\u001b[0m",
      "\u001b[0;31mKeyboardInterrupt\u001b[0m                         Traceback (most recent call last)",
      "Cell \u001b[0;32mIn[1], line 54\u001b[0m\n\u001b[1;32m     51\u001b[0m set_log_handles(log_level, Path(log_path) \u001b[38;5;28;01mif\u001b[39;00m log_path \u001b[38;5;28;01melse\u001b[39;00m \u001b[38;5;28;01mNone\u001b[39;00m)\n\u001b[1;32m     53\u001b[0m \u001b[38;5;66;03m# model = build_model(model,model_options= model_json['model_options'],common_options=model_json['common_options'])\u001b[39;00m\n\u001b[0;32m---> 54\u001b[0m negf \u001b[38;5;241m=\u001b[39m \u001b[43mNEGF\u001b[49m\u001b[43m(\u001b[49m\n\u001b[1;32m     55\u001b[0m \u001b[43m    \u001b[49m\u001b[43mmodel\u001b[49m\u001b[38;5;241;43m=\u001b[39;49m\u001b[43mmodel\u001b[49m\u001b[43m,\u001b[49m\n\u001b[1;32m     56\u001b[0m \u001b[43m    \u001b[49m\u001b[43mAtomicData_options\u001b[49m\u001b[38;5;241;43m=\u001b[39;49m\u001b[43mnegf_json\u001b[49m\u001b[43m[\u001b[49m\u001b[38;5;124;43m'\u001b[39;49m\u001b[38;5;124;43mAtomicData_options\u001b[39;49m\u001b[38;5;124;43m'\u001b[39;49m\u001b[43m]\u001b[49m\u001b[43m,\u001b[49m\n\u001b[1;32m     57\u001b[0m \u001b[43m    \u001b[49m\u001b[43mstructure\u001b[49m\u001b[38;5;241;43m=\u001b[39;49m\u001b[43mstructure\u001b[49m\u001b[43m,\u001b[49m\n\u001b[1;32m     58\u001b[0m \u001b[43m    \u001b[49m\u001b[43mresults_path\u001b[49m\u001b[38;5;241;43m=\u001b[39;49m\u001b[43mresults_path\u001b[49m\u001b[43m,\u001b[49m\n\u001b[1;32m     59\u001b[0m \u001b[43m    \u001b[49m\u001b[43muse_saved_HS\u001b[49m\u001b[38;5;241;43m=\u001b[39;49m\u001b[38;5;28;43;01mFalse\u001b[39;49;00m\u001b[43m,\u001b[49m\n\u001b[1;32m     60\u001b[0m \u001b[43m    \u001b[49m\u001b[43msaved_HS_path\u001b[49m\u001b[38;5;241;43m=\u001b[39;49m\u001b[38;5;28;43;01mNone\u001b[39;49;00m\u001b[43m,\u001b[49m\n\u001b[1;32m     61\u001b[0m \u001b[43m    \u001b[49m\u001b[43mself_energy_save\u001b[49m\u001b[38;5;241;43m=\u001b[39;49m\u001b[38;5;28;43;01mFalse\u001b[39;49;00m\u001b[43m,\u001b[49m\n\u001b[1;32m     62\u001b[0m \u001b[43m    \u001b[49m\u001b[43mself_energy_save_path\u001b[49m\u001b[38;5;241;43m=\u001b[39;49m\u001b[38;5;28;43;01mNone\u001b[39;49;00m\u001b[43m,\u001b[49m\n\u001b[1;32m     63\u001b[0m \u001b[43m    \u001b[49m\u001b[43mse_info_display\u001b[49m\u001b[38;5;241;43m=\u001b[39;49m\u001b[38;5;28;43;01mFalse\u001b[39;49;00m\u001b[43m,\u001b[49m\u001b[43m  \u001b[49m\n\u001b[1;32m     64\u001b[0m \u001b[43m    \u001b[49m\u001b[38;5;241;43m*\u001b[39;49m\u001b[38;5;241;43m*\u001b[39;49m\u001b[43mnegf_json\u001b[49m\u001b[43m[\u001b[49m\u001b[38;5;124;43m'\u001b[39;49m\u001b[38;5;124;43mtask_options\u001b[39;49m\u001b[38;5;124;43m'\u001b[39;49m\u001b[43m]\u001b[49m\n\u001b[1;32m     65\u001b[0m \u001b[43m)\u001b[49m\n\u001b[1;32m     67\u001b[0m negf\u001b[38;5;241m.\u001b[39mcompute()\n",
      "File \u001b[0;32m/opt/mamba/envs/deeptb-dev/lib/python3.10/site-packages/dptb/postprocess/NEGF.py:125\u001b[0m, in \u001b[0;36mNEGF.__init__\u001b[0;34m(self, model, AtomicData_options, structure, ele_T, e_fermi, emin, emax, espacing, use_saved_HS, saved_HS_path, density_options, unit, scf, poisson_options, stru_options, eta_lead, eta_device, block_tridiagonal, sgf_solver, self_energy_save, self_energy_save_path, se_info_display, out_tc, out_dos, out_density, out_potential, out_current, out_current_nscf, out_ldos, out_lcurrent, results_path, torch_device, **kwargs)\u001b[0m\n\u001b[1;32m    113\u001b[0m \u001b[38;5;28mself\u001b[39m\u001b[38;5;241m.\u001b[39mnegf_hamiltonian \u001b[38;5;241m=\u001b[39m NEGFHamiltonianInit(model\u001b[38;5;241m=\u001b[39mmodel,\n\u001b[1;32m    114\u001b[0m                                             AtomicData_options\u001b[38;5;241m=\u001b[39mAtomicData_options, \n\u001b[1;32m    115\u001b[0m                                             structure\u001b[38;5;241m=\u001b[39mstructure,\n\u001b[0;32m   (...)\u001b[0m\n\u001b[1;32m    120\u001b[0m                                             results_path\u001b[38;5;241m=\u001b[39m\u001b[38;5;28mself\u001b[39m\u001b[38;5;241m.\u001b[39mresults_path,\n\u001b[1;32m    121\u001b[0m                                             torch_device \u001b[38;5;241m=\u001b[39m \u001b[38;5;28mself\u001b[39m\u001b[38;5;241m.\u001b[39mtorch_device)\n\u001b[1;32m    122\u001b[0m \u001b[38;5;28;01mwith\u001b[39;00m torch\u001b[38;5;241m.\u001b[39mno_grad():\n\u001b[1;32m    123\u001b[0m     \u001b[38;5;66;03m# if useBloch is None, structure_leads_fold,bloch_sorted_indices,bloch_R_lists = None,None,None\u001b[39;00m\n\u001b[1;32m    124\u001b[0m     struct_device, struct_leads,structure_leads_fold,bloch_sorted_indices,bloch_R_lists \u001b[38;5;241m=\u001b[39m \\\n\u001b[0;32m--> 125\u001b[0m         \u001b[38;5;28;43mself\u001b[39;49m\u001b[38;5;241;43m.\u001b[39;49m\u001b[43mnegf_hamiltonian\u001b[49m\u001b[38;5;241;43m.\u001b[39;49m\u001b[43minitialize\u001b[49m\u001b[43m(\u001b[49m\u001b[43mkpoints\u001b[49m\u001b[38;5;241;43m=\u001b[39;49m\u001b[38;5;28;43mself\u001b[39;49m\u001b[38;5;241;43m.\u001b[39;49m\u001b[43mkpoints\u001b[49m\u001b[43m,\u001b[49m\u001b[43mblock_tridiagnal\u001b[49m\u001b[38;5;241;43m=\u001b[39;49m\u001b[38;5;28;43mself\u001b[39;49m\u001b[38;5;241;43m.\u001b[39;49m\u001b[43mblock_tridiagonal\u001b[49m\u001b[43m,\u001b[49m\u001b[43m\\\u001b[49m\n\u001b[1;32m    126\u001b[0m \u001b[43m                                         \u001b[49m\u001b[43museBloch\u001b[49m\u001b[38;5;241;43m=\u001b[39;49m\u001b[38;5;28;43mself\u001b[39;49m\u001b[38;5;241;43m.\u001b[39;49m\u001b[43museBloch\u001b[49m\u001b[43m,\u001b[49m\u001b[43mbloch_factor\u001b[49m\u001b[38;5;241;43m=\u001b[39;49m\u001b[38;5;28;43mself\u001b[39;49m\u001b[38;5;241;43m.\u001b[39;49m\u001b[43mbloch_factor\u001b[49m\u001b[43m,\u001b[49m\u001b[43m\\\u001b[49m\n\u001b[1;32m    127\u001b[0m \u001b[43m                                         \u001b[49m\u001b[43muse_saved_HS\u001b[49m\u001b[38;5;241;43m=\u001b[39;49m\u001b[38;5;28;43mself\u001b[39;49m\u001b[38;5;241;43m.\u001b[39;49m\u001b[43muse_saved_HS\u001b[49m\u001b[43m,\u001b[49m\u001b[43m \u001b[49m\u001b[43msaved_HS_path\u001b[49m\u001b[38;5;241;43m=\u001b[39;49m\u001b[38;5;28;43mself\u001b[39;49m\u001b[38;5;241;43m.\u001b[39;49m\u001b[43msaved_HS_path\u001b[49m\u001b[43m)\u001b[49m\n\u001b[1;32m    128\u001b[0m \u001b[38;5;66;03m# self.subblocks = subblocks # for not block_tridiagonal case, subblocks is [HD.shape[1]]\u001b[39;00m\n\u001b[1;32m    130\u001b[0m \u001b[38;5;28mself\u001b[39m\u001b[38;5;241m.\u001b[39mdeviceprop \u001b[38;5;241m=\u001b[39m DeviceProperty(\u001b[38;5;28mself\u001b[39m\u001b[38;5;241m.\u001b[39mnegf_hamiltonian, struct_device, results_path\u001b[38;5;241m=\u001b[39m\u001b[38;5;28mself\u001b[39m\u001b[38;5;241m.\u001b[39mresults_path, efermi\u001b[38;5;241m=\u001b[39m\u001b[38;5;28mself\u001b[39m\u001b[38;5;241m.\u001b[39me_fermi)\n",
      "File \u001b[0;32m/opt/mamba/envs/deeptb-dev/lib/python3.10/site-packages/dptb/negf/negf_hamiltonian_init.py:203\u001b[0m, in \u001b[0;36mNEGFHamiltonianInit.initialize\u001b[0;34m(self, kpoints, block_tridiagnal, useBloch, bloch_factor, use_saved_HS, saved_HS_path)\u001b[0m\n\u001b[1;32m    201\u001b[0m \u001b[38;5;28;01melse\u001b[39;00m:\n\u001b[1;32m    202\u001b[0m     \u001b[38;5;28mself\u001b[39m\u001b[38;5;241m.\u001b[39msaved_HS_path \u001b[38;5;241m=\u001b[39m \u001b[38;5;28mself\u001b[39m\u001b[38;5;241m.\u001b[39mresults_path\n\u001b[0;32m--> 203\u001b[0m     \u001b[38;5;28;43mself\u001b[39;49m\u001b[38;5;241;43m.\u001b[39;49m\u001b[43mHamiltonian_initialized\u001b[49m\u001b[43m(\u001b[49m\u001b[43mkpoints\u001b[49m\u001b[43m,\u001b[49m\u001b[43museBloch\u001b[49m\u001b[43m,\u001b[49m\u001b[43mbloch_factor\u001b[49m\u001b[43m,\u001b[49m\u001b[43mblock_tridiagnal\u001b[49m\u001b[43m,\u001b[49m\u001b[43m\\\u001b[49m\n\u001b[1;32m    204\u001b[0m \u001b[43m                                         \u001b[49m\u001b[43mlead_atom_range\u001b[49m\u001b[43m,\u001b[49m\u001b[43mstructure_leads\u001b[49m\u001b[43m,\u001b[49m\u001b[43mstructure_leads_fold\u001b[49m\u001b[43m)\u001b[49m\n\u001b[1;32m    205\u001b[0m     log\u001b[38;5;241m.\u001b[39minfo(msg\u001b[38;5;241m=\u001b[39m\u001b[38;5;124m\"\u001b[39m\u001b[38;5;124m--\u001b[39m\u001b[38;5;124m\"\u001b[39m\u001b[38;5;241m*\u001b[39m\u001b[38;5;241m40\u001b[39m)\n\u001b[1;32m    206\u001b[0m     log\u001b[38;5;241m.\u001b[39minfo(msg\u001b[38;5;241m=\u001b[39m\u001b[38;5;124mf\u001b[39m\u001b[38;5;124m\"\u001b[39m\u001b[38;5;124mThe Hamiltonian has been initialized by model.\u001b[39m\u001b[38;5;124m\"\u001b[39m)\n",
      "File \u001b[0;32m/opt/mamba/envs/deeptb-dev/lib/python3.10/site-packages/dptb/negf/negf_hamiltonian_init.py:263\u001b[0m, in \u001b[0;36mNEGFHamiltonianInit.Hamiltonian_initialized\u001b[0;34m(self, kpoints, useBloch, bloch_factor, block_tridiagnal, lead_atom_range, structure_leads, structure_leads_fold)\u001b[0m\n\u001b[1;32m    260\u001b[0m alldata \u001b[38;5;241m=\u001b[39m \u001b[38;5;28mself\u001b[39m\u001b[38;5;241m.\u001b[39mmodel\u001b[38;5;241m.\u001b[39midp(alldata)\n\u001b[1;32m    261\u001b[0m alldata[AtomicDataDict\u001b[38;5;241m.\u001b[39mKPOINT_KEY] \u001b[38;5;241m=\u001b[39m \\\n\u001b[1;32m    262\u001b[0m     torch\u001b[38;5;241m.\u001b[39mnested\u001b[38;5;241m.\u001b[39mas_nested_tensor([torch\u001b[38;5;241m.\u001b[39mas_tensor(HS_device[\u001b[38;5;124m\"\u001b[39m\u001b[38;5;124mkpoints\u001b[39m\u001b[38;5;124m\"\u001b[39m], dtype\u001b[38;5;241m=\u001b[39m\u001b[38;5;28mself\u001b[39m\u001b[38;5;241m.\u001b[39mmodel\u001b[38;5;241m.\u001b[39mdtype, device\u001b[38;5;241m=\u001b[39m\u001b[38;5;28mself\u001b[39m\u001b[38;5;241m.\u001b[39mtorch_device)])        \n\u001b[0;32m--> 263\u001b[0m alldata \u001b[38;5;241m=\u001b[39m \u001b[38;5;28;43mself\u001b[39;49m\u001b[38;5;241;43m.\u001b[39;49m\u001b[43mmodel\u001b[49m\u001b[43m(\u001b[49m\u001b[43malldata\u001b[49m\u001b[43m)\u001b[49m\n\u001b[1;32m    265\u001b[0m \u001b[38;5;28;01mif\u001b[39;00m alldata\u001b[38;5;241m.\u001b[39mget(AtomicDataDict\u001b[38;5;241m.\u001b[39mEDGE_OVERLAP_KEY,\u001b[38;5;28;01mNone\u001b[39;00m) \u001b[38;5;129;01mis\u001b[39;00m \u001b[38;5;129;01mnot\u001b[39;00m \u001b[38;5;28;01mNone\u001b[39;00m:\n\u001b[1;32m    266\u001b[0m     \u001b[38;5;28mself\u001b[39m\u001b[38;5;241m.\u001b[39moverlap \u001b[38;5;241m=\u001b[39m \u001b[38;5;28;01mTrue\u001b[39;00m\n",
      "File \u001b[0;32m/opt/mamba/envs/deeptb-dev/lib/python3.10/site-packages/torch/nn/modules/module.py:1518\u001b[0m, in \u001b[0;36mModule._wrapped_call_impl\u001b[0;34m(self, *args, **kwargs)\u001b[0m\n\u001b[1;32m   1516\u001b[0m     \u001b[38;5;28;01mreturn\u001b[39;00m \u001b[38;5;28mself\u001b[39m\u001b[38;5;241m.\u001b[39m_compiled_call_impl(\u001b[38;5;241m*\u001b[39margs, \u001b[38;5;241m*\u001b[39m\u001b[38;5;241m*\u001b[39mkwargs)  \u001b[38;5;66;03m# type: ignore[misc]\u001b[39;00m\n\u001b[1;32m   1517\u001b[0m \u001b[38;5;28;01melse\u001b[39;00m:\n\u001b[0;32m-> 1518\u001b[0m     \u001b[38;5;28;01mreturn\u001b[39;00m \u001b[38;5;28;43mself\u001b[39;49m\u001b[38;5;241;43m.\u001b[39;49m\u001b[43m_call_impl\u001b[49m\u001b[43m(\u001b[49m\u001b[38;5;241;43m*\u001b[39;49m\u001b[43margs\u001b[49m\u001b[43m,\u001b[49m\u001b[43m \u001b[49m\u001b[38;5;241;43m*\u001b[39;49m\u001b[38;5;241;43m*\u001b[39;49m\u001b[43mkwargs\u001b[49m\u001b[43m)\u001b[49m\n",
      "File \u001b[0;32m/opt/mamba/envs/deeptb-dev/lib/python3.10/site-packages/torch/nn/modules/module.py:1527\u001b[0m, in \u001b[0;36mModule._call_impl\u001b[0;34m(self, *args, **kwargs)\u001b[0m\n\u001b[1;32m   1522\u001b[0m \u001b[38;5;66;03m# If we don't have any hooks, we want to skip the rest of the logic in\u001b[39;00m\n\u001b[1;32m   1523\u001b[0m \u001b[38;5;66;03m# this function, and just call forward.\u001b[39;00m\n\u001b[1;32m   1524\u001b[0m \u001b[38;5;28;01mif\u001b[39;00m \u001b[38;5;129;01mnot\u001b[39;00m (\u001b[38;5;28mself\u001b[39m\u001b[38;5;241m.\u001b[39m_backward_hooks \u001b[38;5;129;01mor\u001b[39;00m \u001b[38;5;28mself\u001b[39m\u001b[38;5;241m.\u001b[39m_backward_pre_hooks \u001b[38;5;129;01mor\u001b[39;00m \u001b[38;5;28mself\u001b[39m\u001b[38;5;241m.\u001b[39m_forward_hooks \u001b[38;5;129;01mor\u001b[39;00m \u001b[38;5;28mself\u001b[39m\u001b[38;5;241m.\u001b[39m_forward_pre_hooks\n\u001b[1;32m   1525\u001b[0m         \u001b[38;5;129;01mor\u001b[39;00m _global_backward_pre_hooks \u001b[38;5;129;01mor\u001b[39;00m _global_backward_hooks\n\u001b[1;32m   1526\u001b[0m         \u001b[38;5;129;01mor\u001b[39;00m _global_forward_hooks \u001b[38;5;129;01mor\u001b[39;00m _global_forward_pre_hooks):\n\u001b[0;32m-> 1527\u001b[0m     \u001b[38;5;28;01mreturn\u001b[39;00m \u001b[43mforward_call\u001b[49m\u001b[43m(\u001b[49m\u001b[38;5;241;43m*\u001b[39;49m\u001b[43margs\u001b[49m\u001b[43m,\u001b[49m\u001b[43m \u001b[49m\u001b[38;5;241;43m*\u001b[39;49m\u001b[38;5;241;43m*\u001b[39;49m\u001b[43mkwargs\u001b[49m\u001b[43m)\u001b[49m\n\u001b[1;32m   1529\u001b[0m \u001b[38;5;28;01mtry\u001b[39;00m:\n\u001b[1;32m   1530\u001b[0m     result \u001b[38;5;241m=\u001b[39m \u001b[38;5;28;01mNone\u001b[39;00m\n",
      "File \u001b[0;32m/opt/mamba/envs/deeptb-dev/lib/python3.10/site-packages/dptb/nn/deeptb.py:266\u001b[0m, in \u001b[0;36mNNENV.forward\u001b[0;34m(self, data)\u001b[0m\n\u001b[1;32m    263\u001b[0m \u001b[38;5;28;01mif\u001b[39;00m data\u001b[38;5;241m.\u001b[39mget(AtomicDataDict\u001b[38;5;241m.\u001b[39mEDGE_TYPE_KEY, \u001b[38;5;28;01mNone\u001b[39;00m) \u001b[38;5;129;01mis\u001b[39;00m \u001b[38;5;28;01mNone\u001b[39;00m:\n\u001b[1;32m    264\u001b[0m     \u001b[38;5;28mself\u001b[39m\u001b[38;5;241m.\u001b[39midp(data)\n\u001b[0;32m--> 266\u001b[0m data \u001b[38;5;241m=\u001b[39m \u001b[38;5;28;43mself\u001b[39;49m\u001b[38;5;241;43m.\u001b[39;49m\u001b[43membedding\u001b[49m\u001b[43m(\u001b[49m\u001b[43mdata\u001b[49m\u001b[43m)\u001b[49m\n\u001b[1;32m    267\u001b[0m \u001b[38;5;28;01mif\u001b[39;00m \u001b[38;5;28mhasattr\u001b[39m(\u001b[38;5;28mself\u001b[39m, \u001b[38;5;124m\"\u001b[39m\u001b[38;5;124moverlap\u001b[39m\u001b[38;5;124m\"\u001b[39m) \u001b[38;5;129;01mand\u001b[39;00m \u001b[38;5;28mself\u001b[39m\u001b[38;5;241m.\u001b[39mmethod \u001b[38;5;241m==\u001b[39m \u001b[38;5;124m\"\u001b[39m\u001b[38;5;124msktb\u001b[39m\u001b[38;5;124m\"\u001b[39m:\n\u001b[1;32m    268\u001b[0m     data[AtomicDataDict\u001b[38;5;241m.\u001b[39mEDGE_OVERLAP_KEY] \u001b[38;5;241m=\u001b[39m data[AtomicDataDict\u001b[38;5;241m.\u001b[39mEDGE_FEATURES_KEY]\n",
      "File \u001b[0;32m/opt/mamba/envs/deeptb-dev/lib/python3.10/site-packages/torch/nn/modules/module.py:1518\u001b[0m, in \u001b[0;36mModule._wrapped_call_impl\u001b[0;34m(self, *args, **kwargs)\u001b[0m\n\u001b[1;32m   1516\u001b[0m     \u001b[38;5;28;01mreturn\u001b[39;00m \u001b[38;5;28mself\u001b[39m\u001b[38;5;241m.\u001b[39m_compiled_call_impl(\u001b[38;5;241m*\u001b[39margs, \u001b[38;5;241m*\u001b[39m\u001b[38;5;241m*\u001b[39mkwargs)  \u001b[38;5;66;03m# type: ignore[misc]\u001b[39;00m\n\u001b[1;32m   1517\u001b[0m \u001b[38;5;28;01melse\u001b[39;00m:\n\u001b[0;32m-> 1518\u001b[0m     \u001b[38;5;28;01mreturn\u001b[39;00m \u001b[38;5;28;43mself\u001b[39;49m\u001b[38;5;241;43m.\u001b[39;49m\u001b[43m_call_impl\u001b[49m\u001b[43m(\u001b[49m\u001b[38;5;241;43m*\u001b[39;49m\u001b[43margs\u001b[49m\u001b[43m,\u001b[49m\u001b[43m \u001b[49m\u001b[38;5;241;43m*\u001b[39;49m\u001b[38;5;241;43m*\u001b[39;49m\u001b[43mkwargs\u001b[49m\u001b[43m)\u001b[49m\n",
      "File \u001b[0;32m/opt/mamba/envs/deeptb-dev/lib/python3.10/site-packages/torch/nn/modules/module.py:1527\u001b[0m, in \u001b[0;36mModule._call_impl\u001b[0;34m(self, *args, **kwargs)\u001b[0m\n\u001b[1;32m   1522\u001b[0m \u001b[38;5;66;03m# If we don't have any hooks, we want to skip the rest of the logic in\u001b[39;00m\n\u001b[1;32m   1523\u001b[0m \u001b[38;5;66;03m# this function, and just call forward.\u001b[39;00m\n\u001b[1;32m   1524\u001b[0m \u001b[38;5;28;01mif\u001b[39;00m \u001b[38;5;129;01mnot\u001b[39;00m (\u001b[38;5;28mself\u001b[39m\u001b[38;5;241m.\u001b[39m_backward_hooks \u001b[38;5;129;01mor\u001b[39;00m \u001b[38;5;28mself\u001b[39m\u001b[38;5;241m.\u001b[39m_backward_pre_hooks \u001b[38;5;129;01mor\u001b[39;00m \u001b[38;5;28mself\u001b[39m\u001b[38;5;241m.\u001b[39m_forward_hooks \u001b[38;5;129;01mor\u001b[39;00m \u001b[38;5;28mself\u001b[39m\u001b[38;5;241m.\u001b[39m_forward_pre_hooks\n\u001b[1;32m   1525\u001b[0m         \u001b[38;5;129;01mor\u001b[39;00m _global_backward_pre_hooks \u001b[38;5;129;01mor\u001b[39;00m _global_backward_hooks\n\u001b[1;32m   1526\u001b[0m         \u001b[38;5;129;01mor\u001b[39;00m _global_forward_hooks \u001b[38;5;129;01mor\u001b[39;00m _global_forward_pre_hooks):\n\u001b[0;32m-> 1527\u001b[0m     \u001b[38;5;28;01mreturn\u001b[39;00m \u001b[43mforward_call\u001b[49m\u001b[43m(\u001b[49m\u001b[38;5;241;43m*\u001b[39;49m\u001b[43margs\u001b[49m\u001b[43m,\u001b[49m\u001b[43m \u001b[49m\u001b[38;5;241;43m*\u001b[39;49m\u001b[38;5;241;43m*\u001b[39;49m\u001b[43mkwargs\u001b[49m\u001b[43m)\u001b[49m\n\u001b[1;32m   1529\u001b[0m \u001b[38;5;28;01mtry\u001b[39;00m:\n\u001b[1;32m   1530\u001b[0m     result \u001b[38;5;241m=\u001b[39m \u001b[38;5;28;01mNone\u001b[39;00m\n",
      "File \u001b[0;32m/opt/mamba/envs/deeptb-dev/lib/python3.10/site-packages/dptb/nn/embedding/lem.py:198\u001b[0m, in \u001b[0;36mLem.forward\u001b[0;34m(self, data)\u001b[0m\n\u001b[1;32m    194\u001b[0m data[_keys\u001b[38;5;241m.\u001b[39mEDGE_OVERLAP_KEY] \u001b[38;5;241m=\u001b[39m latents\n\u001b[1;32m    196\u001b[0m \u001b[38;5;28;01mfor\u001b[39;00m layer \u001b[38;5;129;01min\u001b[39;00m \u001b[38;5;28mself\u001b[39m\u001b[38;5;241m.\u001b[39mlayers:\n\u001b[1;32m    197\u001b[0m     latents, node_features, edge_features \u001b[38;5;241m=\u001b[39m \\\n\u001b[0;32m--> 198\u001b[0m         \u001b[43mlayer\u001b[49m\u001b[43m(\u001b[49m\n\u001b[1;32m    199\u001b[0m \u001b[43m            \u001b[49m\u001b[43mlatents\u001b[49m\u001b[43m,\u001b[49m\u001b[43m \u001b[49m\n\u001b[1;32m    200\u001b[0m \u001b[43m            \u001b[49m\u001b[43mnode_features\u001b[49m\u001b[43m,\u001b[49m\n\u001b[1;32m    201\u001b[0m \u001b[43m            \u001b[49m\u001b[43medge_features\u001b[49m\u001b[43m,\u001b[49m\u001b[43m \u001b[49m\n\u001b[1;32m    202\u001b[0m \u001b[43m            \u001b[49m\u001b[43mnode_one_hot\u001b[49m\u001b[43m,\u001b[49m\u001b[43m \u001b[49m\n\u001b[1;32m    203\u001b[0m \u001b[43m            \u001b[49m\u001b[43medge_index\u001b[49m\u001b[43m,\u001b[49m\u001b[43m \u001b[49m\n\u001b[1;32m    204\u001b[0m \u001b[43m            \u001b[49m\u001b[43medge_vector\u001b[49m\u001b[43m,\u001b[49m\u001b[43m \u001b[49m\n\u001b[1;32m    205\u001b[0m \u001b[43m            \u001b[49m\u001b[43matom_type\u001b[49m\u001b[43m,\u001b[49m\u001b[43m \u001b[49m\n\u001b[1;32m    206\u001b[0m \u001b[43m            \u001b[49m\u001b[43mcutoff_coeffs\u001b[49m\u001b[43m,\u001b[49m\u001b[43m \u001b[49m\n\u001b[1;32m    207\u001b[0m \u001b[43m            \u001b[49m\u001b[43mactive_edges\u001b[49m\n\u001b[1;32m    208\u001b[0m \u001b[43m        \u001b[49m\u001b[43m)\u001b[49m\n\u001b[1;32m    210\u001b[0m data[_keys\u001b[38;5;241m.\u001b[39mNODE_FEATURES_KEY] \u001b[38;5;241m=\u001b[39m \u001b[38;5;28mself\u001b[39m\u001b[38;5;241m.\u001b[39mout_node(node_features)\n\u001b[1;32m    211\u001b[0m data[_keys\u001b[38;5;241m.\u001b[39mEDGE_FEATURES_KEY] \u001b[38;5;241m=\u001b[39m torch\u001b[38;5;241m.\u001b[39mzeros(edge_index\u001b[38;5;241m.\u001b[39mshape[\u001b[38;5;241m1\u001b[39m], \u001b[38;5;28mself\u001b[39m\u001b[38;5;241m.\u001b[39midp\u001b[38;5;241m.\u001b[39morbpair_irreps\u001b[38;5;241m.\u001b[39mdim, dtype\u001b[38;5;241m=\u001b[39m\u001b[38;5;28mself\u001b[39m\u001b[38;5;241m.\u001b[39mdtype, device\u001b[38;5;241m=\u001b[39m\u001b[38;5;28mself\u001b[39m\u001b[38;5;241m.\u001b[39mdevice)\n",
      "File \u001b[0;32m/opt/mamba/envs/deeptb-dev/lib/python3.10/site-packages/torch/nn/modules/module.py:1518\u001b[0m, in \u001b[0;36mModule._wrapped_call_impl\u001b[0;34m(self, *args, **kwargs)\u001b[0m\n\u001b[1;32m   1516\u001b[0m     \u001b[38;5;28;01mreturn\u001b[39;00m \u001b[38;5;28mself\u001b[39m\u001b[38;5;241m.\u001b[39m_compiled_call_impl(\u001b[38;5;241m*\u001b[39margs, \u001b[38;5;241m*\u001b[39m\u001b[38;5;241m*\u001b[39mkwargs)  \u001b[38;5;66;03m# type: ignore[misc]\u001b[39;00m\n\u001b[1;32m   1517\u001b[0m \u001b[38;5;28;01melse\u001b[39;00m:\n\u001b[0;32m-> 1518\u001b[0m     \u001b[38;5;28;01mreturn\u001b[39;00m \u001b[38;5;28;43mself\u001b[39;49m\u001b[38;5;241;43m.\u001b[39;49m\u001b[43m_call_impl\u001b[49m\u001b[43m(\u001b[49m\u001b[38;5;241;43m*\u001b[39;49m\u001b[43margs\u001b[49m\u001b[43m,\u001b[49m\u001b[43m \u001b[49m\u001b[38;5;241;43m*\u001b[39;49m\u001b[38;5;241;43m*\u001b[39;49m\u001b[43mkwargs\u001b[49m\u001b[43m)\u001b[49m\n",
      "File \u001b[0;32m/opt/mamba/envs/deeptb-dev/lib/python3.10/site-packages/torch/nn/modules/module.py:1527\u001b[0m, in \u001b[0;36mModule._call_impl\u001b[0;34m(self, *args, **kwargs)\u001b[0m\n\u001b[1;32m   1522\u001b[0m \u001b[38;5;66;03m# If we don't have any hooks, we want to skip the rest of the logic in\u001b[39;00m\n\u001b[1;32m   1523\u001b[0m \u001b[38;5;66;03m# this function, and just call forward.\u001b[39;00m\n\u001b[1;32m   1524\u001b[0m \u001b[38;5;28;01mif\u001b[39;00m \u001b[38;5;129;01mnot\u001b[39;00m (\u001b[38;5;28mself\u001b[39m\u001b[38;5;241m.\u001b[39m_backward_hooks \u001b[38;5;129;01mor\u001b[39;00m \u001b[38;5;28mself\u001b[39m\u001b[38;5;241m.\u001b[39m_backward_pre_hooks \u001b[38;5;129;01mor\u001b[39;00m \u001b[38;5;28mself\u001b[39m\u001b[38;5;241m.\u001b[39m_forward_hooks \u001b[38;5;129;01mor\u001b[39;00m \u001b[38;5;28mself\u001b[39m\u001b[38;5;241m.\u001b[39m_forward_pre_hooks\n\u001b[1;32m   1525\u001b[0m         \u001b[38;5;129;01mor\u001b[39;00m _global_backward_pre_hooks \u001b[38;5;129;01mor\u001b[39;00m _global_backward_hooks\n\u001b[1;32m   1526\u001b[0m         \u001b[38;5;129;01mor\u001b[39;00m _global_forward_hooks \u001b[38;5;129;01mor\u001b[39;00m _global_forward_pre_hooks):\n\u001b[0;32m-> 1527\u001b[0m     \u001b[38;5;28;01mreturn\u001b[39;00m \u001b[43mforward_call\u001b[49m\u001b[43m(\u001b[49m\u001b[38;5;241;43m*\u001b[39;49m\u001b[43margs\u001b[49m\u001b[43m,\u001b[49m\u001b[43m \u001b[49m\u001b[38;5;241;43m*\u001b[39;49m\u001b[38;5;241;43m*\u001b[39;49m\u001b[43mkwargs\u001b[49m\u001b[43m)\u001b[49m\n\u001b[1;32m   1529\u001b[0m \u001b[38;5;28;01mtry\u001b[39;00m:\n\u001b[1;32m   1530\u001b[0m     result \u001b[38;5;241m=\u001b[39m \u001b[38;5;28;01mNone\u001b[39;00m\n",
      "File \u001b[0;32m/opt/mamba/envs/deeptb-dev/lib/python3.10/site-packages/dptb/nn/embedding/lem.py:970\u001b[0m, in \u001b[0;36mLayer.forward\u001b[0;34m(self, latents, node_features, edge_features, node_onehot, edge_index, edge_vector, atom_type, cutoff_coeffs, active_edges)\u001b[0m\n\u001b[1;32m    967\u001b[0m \u001b[38;5;28;01mdef\u001b[39;00m \u001b[38;5;21mforward\u001b[39m(\u001b[38;5;28mself\u001b[39m, latents, node_features, edge_features, node_onehot, edge_index, edge_vector, atom_type, cutoff_coeffs, active_edges):\n\u001b[1;32m    969\u001b[0m     edge_features, latents \u001b[38;5;241m=\u001b[39m \u001b[38;5;28mself\u001b[39m\u001b[38;5;241m.\u001b[39medge_update(latents, node_features, node_onehot, edge_features, edge_index, edge_vector, cutoff_coeffs, active_edges)\n\u001b[0;32m--> 970\u001b[0m     node_features \u001b[38;5;241m=\u001b[39m \u001b[38;5;28;43mself\u001b[39;49m\u001b[38;5;241;43m.\u001b[39;49m\u001b[43mnode_update\u001b[49m\u001b[43m(\u001b[49m\u001b[43mlatents\u001b[49m\u001b[43m,\u001b[49m\u001b[43m \u001b[49m\u001b[43mnode_features\u001b[49m\u001b[43m,\u001b[49m\u001b[43m \u001b[49m\u001b[43medge_features\u001b[49m\u001b[43m,\u001b[49m\u001b[43m \u001b[49m\u001b[43matom_type\u001b[49m\u001b[43m,\u001b[49m\u001b[43m \u001b[49m\u001b[43mnode_onehot\u001b[49m\u001b[43m,\u001b[49m\u001b[43m \u001b[49m\u001b[43medge_index\u001b[49m\u001b[43m,\u001b[49m\u001b[43m \u001b[49m\u001b[43medge_vector\u001b[49m\u001b[43m,\u001b[49m\u001b[43m \u001b[49m\u001b[43mactive_edges\u001b[49m\u001b[43m)\u001b[49m\n\u001b[1;32m    972\u001b[0m     \u001b[38;5;28;01mreturn\u001b[39;00m latents, node_features, edge_features\n",
      "File \u001b[0;32m/opt/mamba/envs/deeptb-dev/lib/python3.10/site-packages/torch/nn/modules/module.py:1518\u001b[0m, in \u001b[0;36mModule._wrapped_call_impl\u001b[0;34m(self, *args, **kwargs)\u001b[0m\n\u001b[1;32m   1516\u001b[0m     \u001b[38;5;28;01mreturn\u001b[39;00m \u001b[38;5;28mself\u001b[39m\u001b[38;5;241m.\u001b[39m_compiled_call_impl(\u001b[38;5;241m*\u001b[39margs, \u001b[38;5;241m*\u001b[39m\u001b[38;5;241m*\u001b[39mkwargs)  \u001b[38;5;66;03m# type: ignore[misc]\u001b[39;00m\n\u001b[1;32m   1517\u001b[0m \u001b[38;5;28;01melse\u001b[39;00m:\n\u001b[0;32m-> 1518\u001b[0m     \u001b[38;5;28;01mreturn\u001b[39;00m \u001b[38;5;28;43mself\u001b[39;49m\u001b[38;5;241;43m.\u001b[39;49m\u001b[43m_call_impl\u001b[49m\u001b[43m(\u001b[49m\u001b[38;5;241;43m*\u001b[39;49m\u001b[43margs\u001b[49m\u001b[43m,\u001b[49m\u001b[43m \u001b[49m\u001b[38;5;241;43m*\u001b[39;49m\u001b[38;5;241;43m*\u001b[39;49m\u001b[43mkwargs\u001b[49m\u001b[43m)\u001b[49m\n",
      "File \u001b[0;32m/opt/mamba/envs/deeptb-dev/lib/python3.10/site-packages/torch/nn/modules/module.py:1527\u001b[0m, in \u001b[0;36mModule._call_impl\u001b[0;34m(self, *args, **kwargs)\u001b[0m\n\u001b[1;32m   1522\u001b[0m \u001b[38;5;66;03m# If we don't have any hooks, we want to skip the rest of the logic in\u001b[39;00m\n\u001b[1;32m   1523\u001b[0m \u001b[38;5;66;03m# this function, and just call forward.\u001b[39;00m\n\u001b[1;32m   1524\u001b[0m \u001b[38;5;28;01mif\u001b[39;00m \u001b[38;5;129;01mnot\u001b[39;00m (\u001b[38;5;28mself\u001b[39m\u001b[38;5;241m.\u001b[39m_backward_hooks \u001b[38;5;129;01mor\u001b[39;00m \u001b[38;5;28mself\u001b[39m\u001b[38;5;241m.\u001b[39m_backward_pre_hooks \u001b[38;5;129;01mor\u001b[39;00m \u001b[38;5;28mself\u001b[39m\u001b[38;5;241m.\u001b[39m_forward_hooks \u001b[38;5;129;01mor\u001b[39;00m \u001b[38;5;28mself\u001b[39m\u001b[38;5;241m.\u001b[39m_forward_pre_hooks\n\u001b[1;32m   1525\u001b[0m         \u001b[38;5;129;01mor\u001b[39;00m _global_backward_pre_hooks \u001b[38;5;129;01mor\u001b[39;00m _global_backward_hooks\n\u001b[1;32m   1526\u001b[0m         \u001b[38;5;129;01mor\u001b[39;00m _global_forward_hooks \u001b[38;5;129;01mor\u001b[39;00m _global_forward_pre_hooks):\n\u001b[0;32m-> 1527\u001b[0m     \u001b[38;5;28;01mreturn\u001b[39;00m \u001b[43mforward_call\u001b[49m\u001b[43m(\u001b[49m\u001b[38;5;241;43m*\u001b[39;49m\u001b[43margs\u001b[49m\u001b[43m,\u001b[49m\u001b[43m \u001b[49m\u001b[38;5;241;43m*\u001b[39;49m\u001b[38;5;241;43m*\u001b[39;49m\u001b[43mkwargs\u001b[49m\u001b[43m)\u001b[49m\n\u001b[1;32m   1529\u001b[0m \u001b[38;5;28;01mtry\u001b[39;00m:\n\u001b[1;32m   1530\u001b[0m     result \u001b[38;5;241m=\u001b[39m \u001b[38;5;28;01mNone\u001b[39;00m\n",
      "File \u001b[0;32m/opt/mamba/envs/deeptb-dev/lib/python3.10/site-packages/dptb/nn/embedding/lem.py:677\u001b[0m, in \u001b[0;36mUpdateNode.forward\u001b[0;34m(self, latents, node_features, edge_features, atom_type, node_onehot, edge_index, edge_vector, active_edges)\u001b[0m\n\u001b[1;32m    674\u001b[0m edge_neighbor \u001b[38;5;241m=\u001b[39m edge_index[\u001b[38;5;241m1\u001b[39m]\n\u001b[1;32m    676\u001b[0m new_node_features \u001b[38;5;241m=\u001b[39m \u001b[38;5;28mself\u001b[39m\u001b[38;5;241m.\u001b[39msln(node_features)\n\u001b[0;32m--> 677\u001b[0m message \u001b[38;5;241m=\u001b[39m \u001b[38;5;28;43mself\u001b[39;49m\u001b[38;5;241;43m.\u001b[39;49m\u001b[43mtp\u001b[49m\u001b[43m(\u001b[49m\n\u001b[1;32m    678\u001b[0m \u001b[43m    \u001b[49m\u001b[43mtorch\u001b[49m\u001b[38;5;241;43m.\u001b[39;49m\u001b[43mcat\u001b[49m\u001b[43m(\u001b[49m\n\u001b[1;32m    679\u001b[0m \u001b[43m        \u001b[49m\u001b[43m[\u001b[49m\u001b[43mnew_node_features\u001b[49m\u001b[43m[\u001b[49m\u001b[43medge_center\u001b[49m\u001b[43m[\u001b[49m\u001b[43mactive_edges\u001b[49m\u001b[43m]\u001b[49m\u001b[43m]\u001b[49m\u001b[43m,\u001b[49m\u001b[43m \u001b[49m\u001b[38;5;28;43mself\u001b[39;49m\u001b[38;5;241;43m.\u001b[39;49m\u001b[43msln_e\u001b[49m\u001b[43m(\u001b[49m\u001b[43medge_features\u001b[49m\u001b[43m)\u001b[49m\u001b[43m]\u001b[49m\n\u001b[1;32m    680\u001b[0m \u001b[43m        \u001b[49m\u001b[43m,\u001b[49m\u001b[43m \u001b[49m\u001b[43mdim\u001b[49m\u001b[38;5;241;43m=\u001b[39;49m\u001b[38;5;241;43m-\u001b[39;49m\u001b[38;5;241;43m1\u001b[39;49m\u001b[43m)\u001b[49m\u001b[43m,\u001b[49m\u001b[43m \u001b[49m\u001b[43medge_vector\u001b[49m\u001b[43m[\u001b[49m\u001b[43mactive_edges\u001b[49m\u001b[43m]\u001b[49m\u001b[43m,\u001b[49m\u001b[43m \u001b[49m\u001b[43mlatents\u001b[49m\u001b[43m[\u001b[49m\u001b[43mactive_edges\u001b[49m\u001b[43m]\u001b[49m\u001b[43m)\u001b[49m \u001b[38;5;66;03m# full_out_irreps\u001b[39;00m\n\u001b[1;32m    682\u001b[0m message \u001b[38;5;241m=\u001b[39m \u001b[38;5;28mself\u001b[39m\u001b[38;5;241m.\u001b[39mactivation(message)\n\u001b[1;32m    683\u001b[0m message \u001b[38;5;241m=\u001b[39m \u001b[38;5;28mself\u001b[39m\u001b[38;5;241m.\u001b[39mlin_post(message)\n",
      "File \u001b[0;32m/opt/mamba/envs/deeptb-dev/lib/python3.10/site-packages/torch/nn/modules/module.py:1518\u001b[0m, in \u001b[0;36mModule._wrapped_call_impl\u001b[0;34m(self, *args, **kwargs)\u001b[0m\n\u001b[1;32m   1516\u001b[0m     \u001b[38;5;28;01mreturn\u001b[39;00m \u001b[38;5;28mself\u001b[39m\u001b[38;5;241m.\u001b[39m_compiled_call_impl(\u001b[38;5;241m*\u001b[39margs, \u001b[38;5;241m*\u001b[39m\u001b[38;5;241m*\u001b[39mkwargs)  \u001b[38;5;66;03m# type: ignore[misc]\u001b[39;00m\n\u001b[1;32m   1517\u001b[0m \u001b[38;5;28;01melse\u001b[39;00m:\n\u001b[0;32m-> 1518\u001b[0m     \u001b[38;5;28;01mreturn\u001b[39;00m \u001b[38;5;28;43mself\u001b[39;49m\u001b[38;5;241;43m.\u001b[39;49m\u001b[43m_call_impl\u001b[49m\u001b[43m(\u001b[49m\u001b[38;5;241;43m*\u001b[39;49m\u001b[43margs\u001b[49m\u001b[43m,\u001b[49m\u001b[43m \u001b[49m\u001b[38;5;241;43m*\u001b[39;49m\u001b[38;5;241;43m*\u001b[39;49m\u001b[43mkwargs\u001b[49m\u001b[43m)\u001b[49m\n",
      "File \u001b[0;32m/opt/mamba/envs/deeptb-dev/lib/python3.10/site-packages/torch/nn/modules/module.py:1527\u001b[0m, in \u001b[0;36mModule._call_impl\u001b[0;34m(self, *args, **kwargs)\u001b[0m\n\u001b[1;32m   1522\u001b[0m \u001b[38;5;66;03m# If we don't have any hooks, we want to skip the rest of the logic in\u001b[39;00m\n\u001b[1;32m   1523\u001b[0m \u001b[38;5;66;03m# this function, and just call forward.\u001b[39;00m\n\u001b[1;32m   1524\u001b[0m \u001b[38;5;28;01mif\u001b[39;00m \u001b[38;5;129;01mnot\u001b[39;00m (\u001b[38;5;28mself\u001b[39m\u001b[38;5;241m.\u001b[39m_backward_hooks \u001b[38;5;129;01mor\u001b[39;00m \u001b[38;5;28mself\u001b[39m\u001b[38;5;241m.\u001b[39m_backward_pre_hooks \u001b[38;5;129;01mor\u001b[39;00m \u001b[38;5;28mself\u001b[39m\u001b[38;5;241m.\u001b[39m_forward_hooks \u001b[38;5;129;01mor\u001b[39;00m \u001b[38;5;28mself\u001b[39m\u001b[38;5;241m.\u001b[39m_forward_pre_hooks\n\u001b[1;32m   1525\u001b[0m         \u001b[38;5;129;01mor\u001b[39;00m _global_backward_pre_hooks \u001b[38;5;129;01mor\u001b[39;00m _global_backward_hooks\n\u001b[1;32m   1526\u001b[0m         \u001b[38;5;129;01mor\u001b[39;00m _global_forward_hooks \u001b[38;5;129;01mor\u001b[39;00m _global_forward_pre_hooks):\n\u001b[0;32m-> 1527\u001b[0m     \u001b[38;5;28;01mreturn\u001b[39;00m \u001b[43mforward_call\u001b[49m\u001b[43m(\u001b[49m\u001b[38;5;241;43m*\u001b[39;49m\u001b[43margs\u001b[49m\u001b[43m,\u001b[49m\u001b[43m \u001b[49m\u001b[38;5;241;43m*\u001b[39;49m\u001b[38;5;241;43m*\u001b[39;49m\u001b[43mkwargs\u001b[49m\u001b[43m)\u001b[49m\n\u001b[1;32m   1529\u001b[0m \u001b[38;5;28;01mtry\u001b[39;00m:\n\u001b[1;32m   1530\u001b[0m     result \u001b[38;5;241m=\u001b[39m \u001b[38;5;28;01mNone\u001b[39;00m\n",
      "File \u001b[0;32m/opt/mamba/envs/deeptb-dev/lib/python3.10/site-packages/dptb/nn/tensor_product.py:120\u001b[0m, in \u001b[0;36mSO2_Linear.forward\u001b[0;34m(self, x, R, latents)\u001b[0m\n\u001b[1;32m    118\u001b[0m         \u001b[38;5;66;03m# The roataion matrix is SO3 rotation, therefore Irreps(l,1), is used here.\u001b[39;00m\n\u001b[1;32m    119\u001b[0m         rot_mat_L \u001b[38;5;241m=\u001b[39m wigner_D(l, angle[\u001b[38;5;241m0\u001b[39m], angle[\u001b[38;5;241m1\u001b[39m], torch\u001b[38;5;241m.\u001b[39mzeros_like(angle[\u001b[38;5;241m0\u001b[39m]))\n\u001b[0;32m--> 120\u001b[0m         x_[:, \u001b[38;5;28mslice\u001b[39m] \u001b[38;5;241m=\u001b[39m \u001b[43mtorch\u001b[49m\u001b[38;5;241;43m.\u001b[39;49m\u001b[43meinsum\u001b[49m\u001b[43m(\u001b[49m\u001b[38;5;124;43m'\u001b[39;49m\u001b[38;5;124;43mnji,nmj->nmi\u001b[39;49m\u001b[38;5;124;43m'\u001b[39;49m\u001b[43m,\u001b[49m\u001b[43m \u001b[49m\u001b[43mrot_mat_L\u001b[49m\u001b[43m,\u001b[49m\u001b[43m \u001b[49m\u001b[43mx\u001b[49m\u001b[43m[\u001b[49m\u001b[43m:\u001b[49m\u001b[43m,\u001b[49m\u001b[43m \u001b[49m\u001b[38;5;28;43mslice\u001b[39;49m\u001b[43m]\u001b[49m\u001b[38;5;241;43m.\u001b[39;49m\u001b[43mreshape\u001b[49m\u001b[43m(\u001b[49m\u001b[43mn\u001b[49m\u001b[43m,\u001b[49m\u001b[43mmul\u001b[49m\u001b[43m,\u001b[49m\u001b[38;5;241;43m-\u001b[39;49m\u001b[38;5;241;43m1\u001b[39;49m\u001b[43m)\u001b[49m\u001b[43m)\u001b[49m\u001b[38;5;241m.\u001b[39mreshape(n,\u001b[38;5;241m-\u001b[39m\u001b[38;5;241m1\u001b[39m)\n\u001b[1;32m    122\u001b[0m out \u001b[38;5;241m=\u001b[39m torch\u001b[38;5;241m.\u001b[39mzeros(n, \u001b[38;5;28mself\u001b[39m\u001b[38;5;241m.\u001b[39mirreps_out\u001b[38;5;241m.\u001b[39mdim, dtype\u001b[38;5;241m=\u001b[39mx\u001b[38;5;241m.\u001b[39mdtype, device\u001b[38;5;241m=\u001b[39mx\u001b[38;5;241m.\u001b[39mdevice)\n\u001b[1;32m    123\u001b[0m \u001b[38;5;28;01mfor\u001b[39;00m m \u001b[38;5;129;01min\u001b[39;00m \u001b[38;5;28mrange\u001b[39m(\u001b[38;5;28mself\u001b[39m\u001b[38;5;241m.\u001b[39mirreps_out\u001b[38;5;241m.\u001b[39mlmax\u001b[38;5;241m+\u001b[39m\u001b[38;5;241m1\u001b[39m):\n",
      "File \u001b[0;32m/opt/mamba/envs/deeptb-dev/lib/python3.10/site-packages/torch/functional.py:377\u001b[0m, in \u001b[0;36meinsum\u001b[0;34m(*args)\u001b[0m\n\u001b[1;32m    372\u001b[0m     \u001b[38;5;28;01mreturn\u001b[39;00m einsum(equation, \u001b[38;5;241m*\u001b[39m_operands)\n\u001b[1;32m    374\u001b[0m \u001b[38;5;28;01mif\u001b[39;00m \u001b[38;5;28mlen\u001b[39m(operands) \u001b[38;5;241m<\u001b[39m\u001b[38;5;241m=\u001b[39m \u001b[38;5;241m2\u001b[39m \u001b[38;5;129;01mor\u001b[39;00m \u001b[38;5;129;01mnot\u001b[39;00m opt_einsum\u001b[38;5;241m.\u001b[39menabled:\n\u001b[1;32m    375\u001b[0m     \u001b[38;5;66;03m# the path for contracting 0 or 1 time(s) is already optimized\u001b[39;00m\n\u001b[1;32m    376\u001b[0m     \u001b[38;5;66;03m# or the user has disabled using opt_einsum\u001b[39;00m\n\u001b[0;32m--> 377\u001b[0m     \u001b[38;5;28;01mreturn\u001b[39;00m \u001b[43m_VF\u001b[49m\u001b[38;5;241;43m.\u001b[39;49m\u001b[43meinsum\u001b[49m\u001b[43m(\u001b[49m\u001b[43mequation\u001b[49m\u001b[43m,\u001b[49m\u001b[43m \u001b[49m\u001b[43moperands\u001b[49m\u001b[43m)\u001b[49m  \u001b[38;5;66;03m# type: ignore[attr-defined]\u001b[39;00m\n\u001b[1;32m    379\u001b[0m path \u001b[38;5;241m=\u001b[39m \u001b[38;5;28;01mNone\u001b[39;00m\n\u001b[1;32m    380\u001b[0m \u001b[38;5;28;01mif\u001b[39;00m opt_einsum\u001b[38;5;241m.\u001b[39mis_available():\n",
      "\u001b[0;31mKeyboardInterrupt\u001b[0m: "
     ]
    }
   ],
   "source": [
    "from dptb.postprocess.NEGF import NEGF\n",
    "from dptb.nn.build import build_model\n",
    "import json\n",
    "\n",
    "from dptb.utils.loggers import set_log_handles\n",
    "import logging\n",
    "from pathlib import Path\n",
    "\n",
    "from dptb.nn.dftbsk import DFTBSK\n",
    "\n",
    "\n",
    "# skdata=\"/personal/DFTB/skfiles/ptbp/complete_set\"\n",
    "# # skdata = '/personal/DFTB/skfiles/ptbp/complete_set'\n",
    "# basis={\"Au\": [\"5d\", \"6s\", \"6p\"]}\n",
    "# model = DFTBSK(basis=basis, skdata=skdata,overlap=True)\n",
    "\n",
    "\n",
    "# common_options= {\n",
    "#             \"basis\": {\n",
    "#                 \"Au\": [\"5d\",\"6s\",\"6p\"]\n",
    "#             },\n",
    "#             \"device\": \"cpu\",\n",
    "#             \"dtype\": \"float32\",\n",
    "#             \"overlap\": True,\n",
    "#             \"seed\": 3204\n",
    "#     }\n",
    "common_options= {\"device\": \"cpu\"}\n",
    "model = build_model(checkpoint=\"/personal/DFTB/Au_Ag/Au_TS/train_input_e3/nnenv.ep1651.pth\",\n",
    "                    common_options=common_options)\n",
    "\n",
    "\n",
    "results_path='/personal/DeepTB/dptb_Zjj/DeePTB/dptb/negf/bloch_files/negf_out'\n",
    "# input_path='/personal/DFTB/Au_Ag/Au_TS/TS/negf_dptb_sub/sub_Au_400/run_input_Au400_2PL_bloch.json'\n",
    "# structure = '/personal/DFTB/Au_Ag/Au_TS/TS/negf_dptb_sub/sub_Au_400/Au400_2PL.xyz'\n",
    "\n",
    "# structure = '/personal/DFTB/Au_Ag/Au_TS/TS/negf_dptb_sub/sub_Au_400/Au400_2PL_sort.xyz'\n",
    "\n",
    "# results_path='/personal/DeepTB/dptb_Zjj/DeePTB/dptb/negf/bloch_files/negf_out_150'\n",
    "# input_path='/personal/DFTB/Au_Ag/Au_TS/TS/dptb_trans_input/run_input_Au150_2PL.json'\n",
    "# structure = '/personal/DFTB/Au_Ag/Au_TS/TS/Au_mcbj_150_bloch/sub_files/Au150_2PL2.xyz'\n",
    "\n",
    "input_path='/personal/DFTB/Au_Ag/Au_TS/TS/dptb_trans_input/run_input_Au150_2PL.json'\n",
    "structure = '/personal/DFTB/Au_Ag/Au_TS/TS/Au_mcbj_150_bloch/sub_files/Au150_2PL2.xyz'\n",
    "\n",
    "\n",
    "negf_json = json.load(open(input_path))\n",
    "# model_json = json.load(open(model))\n",
    "\n",
    "log_path = results_path+'/log'\n",
    "log_level = logging.INFO\n",
    "set_log_handles(log_level, Path(log_path) if log_path else None)\n",
    "\n",
    "# model = build_model(model,model_options= model_json['model_options'],common_options=model_json['common_options'])\n",
    "negf = NEGF(\n",
    "    model=model,\n",
    "    AtomicData_options=negf_json['AtomicData_options'],\n",
    "    structure=structure,\n",
    "    results_path=results_path,\n",
    "    use_saved_HS=False,\n",
    "    saved_HS_path=None,\n",
    "    self_energy_save=False,\n",
    "    self_energy_save_path=None,\n",
    "    se_info_display=False,  \n",
    "    **negf_json['task_options']\n",
    ")\n",
    "   \n",
    "negf.compute()\n"
   ]
  },
  {
   "cell_type": "code",
   "execution_count": 1,
   "metadata": {},
   "outputs": [
    {
     "name": "stderr",
     "output_type": "stream",
     "text": [
      "TBPLaS is not installed. Thus the TBPLaS is not available, Please install it first.\n",
      "/opt/mamba/envs/deeptb-dev/lib/python3.10/site-packages/torch/overrides.py:110: UserWarning: 'has_cuda' is deprecated, please use 'torch.backends.cuda.is_built()'\n",
      "  torch.has_cuda,\n",
      "/opt/mamba/envs/deeptb-dev/lib/python3.10/site-packages/torch/overrides.py:111: UserWarning: 'has_cudnn' is deprecated, please use 'torch.backends.cudnn.is_available()'\n",
      "  torch.has_cudnn,\n",
      "/opt/mamba/envs/deeptb-dev/lib/python3.10/site-packages/torch/overrides.py:117: UserWarning: 'has_mps' is deprecated, please use 'torch.backends.mps.is_built()'\n",
      "  torch.has_mps,\n",
      "/opt/mamba/envs/deeptb-dev/lib/python3.10/site-packages/torch/overrides.py:118: UserWarning: 'has_mkldnn' is deprecated, please use 'torch.backends.mkldnn.is_available()'\n",
      "  torch.has_mkldnn,\n",
      "/opt/mamba/envs/deeptb-dev/lib/python3.10/site-packages/torch/jit/_check.py:178: UserWarning: The TorchScript type system doesn't support instance-level annotations on empty non-base types in `__init__`. Instead, either 1) use a type annotation in the class body, or 2) wrap the type in `torch.jit.Attribute`.\n",
      "  warnings.warn(\n",
      "DEEPTB INFO    ------ k-point for NEGF -----\n",
      "DEEPTB INFO    Gamma Center: True\n",
      "DEEPTB INFO    Time Reversal: True\n",
      "DEEPTB INFO    k-points Num: 4\n",
      "DEEPTB INFO    k-points: [[0.  0.  0. ]\n",
      " [0.  0.5 0. ]\n",
      " [0.5 0.  0. ]\n",
      " [0.5 0.5 0. ]]\n",
      "DEEPTB INFO    k-points weights: [0.25 0.25 0.25 0.25]\n",
      "DEEPTB INFO    --------------------------------\n",
      "DEEPTB INFO    The structure is sorted lexicographically in this version!\n",
      "/opt/mamba/envs/deeptb-dev/lib/python3.10/site-packages/torch/nested/__init__.py:58: UserWarning: The PyTorch API of nested tensors is in prototype stage and will change in the near future. (Triggered internally at ../aten/src/ATen/NestedTensorImpl.cpp:178.)\n",
      "  return torch._nested_tensor_from_tensor_list(tensor_list, dtype, None, device, None)\n",
      "DEEPTB INFO    The coupling width of lead_L is 1080.\n",
      "DEEPTB INFO    The coupling width of lead_R is 1080.\n",
      "DEEPTB INFO    The lead's hamiltonian or overlap attained from device and lead calculation does not match.                                   The error for HK is 0.0011525 and for SK is 0.0000000.\n",
      "DEEPTB ERROR   ERROR, the lead's hamiltonian attained from diffferent methods does not match.\n",
      "DEEPTB INFO    The Hamiltonian is block tridiagonalized into 10 subblocks.\n",
      "DEEPTB INFO       the number of elements in subblocks: 15301500\n",
      "DEEPTB INFO                   occupation of subblocks: 32.705576074689645 %\n",
      "DEEPTB INFO    Properties computation at k = [0.0000,0.0000,0.0000]\n",
      "DEEPTB INFO    computing green's function at e = 0.000\n"
     ]
    },
    {
     "ename": "KeyboardInterrupt",
     "evalue": "",
     "output_type": "error",
     "traceback": [
      "\u001b[0;31m---------------------------------------------------------------------------\u001b[0m",
      "\u001b[0;31mKeyboardInterrupt\u001b[0m                         Traceback (most recent call last)",
      "Cell \u001b[0;32mIn[1], line 60\u001b[0m\n\u001b[1;32m     50\u001b[0m \u001b[38;5;66;03m# model = build_model(model,model_options= model_json['model_options'],common_options=model_json['common_options'])\u001b[39;00m\n\u001b[1;32m     52\u001b[0m negf \u001b[38;5;241m=\u001b[39m NEGF(\n\u001b[1;32m     53\u001b[0m     model\u001b[38;5;241m=\u001b[39mmodel,\n\u001b[1;32m     54\u001b[0m     AtomicData_options\u001b[38;5;241m=\u001b[39mnegf_json[\u001b[38;5;124m'\u001b[39m\u001b[38;5;124mAtomicData_options\u001b[39m\u001b[38;5;124m'\u001b[39m],\n\u001b[0;32m   (...)\u001b[0m\n\u001b[1;32m     57\u001b[0m     \u001b[38;5;241m*\u001b[39m\u001b[38;5;241m*\u001b[39mnegf_json[\u001b[38;5;124m'\u001b[39m\u001b[38;5;124mtask_options\u001b[39m\u001b[38;5;124m'\u001b[39m]\n\u001b[1;32m     58\u001b[0m )\n\u001b[0;32m---> 60\u001b[0m \u001b[43mnegf\u001b[49m\u001b[38;5;241;43m.\u001b[39;49m\u001b[43mcompute\u001b[49m\u001b[43m(\u001b[49m\u001b[43m)\u001b[49m\n",
      "File \u001b[0;32m/opt/mamba/envs/deeptb-dev/lib/python3.10/site-packages/dptb/postprocess/NEGF.py:246\u001b[0m, in \u001b[0;36mNEGF.compute\u001b[0;34m(self)\u001b[0m\n\u001b[1;32m    243\u001b[0m     \u001b[38;5;28mself\u001b[39m\u001b[38;5;241m.\u001b[39mpoisson_negf_scf(err\u001b[38;5;241m=\u001b[39m\u001b[38;5;28mself\u001b[39m\u001b[38;5;241m.\u001b[39mpoisson_options[\u001b[38;5;124m'\u001b[39m\u001b[38;5;124merr\u001b[39m\u001b[38;5;124m'\u001b[39m],tolerance\u001b[38;5;241m=\u001b[39m\u001b[38;5;28mself\u001b[39m\u001b[38;5;241m.\u001b[39mpoisson_options[\u001b[38;5;124m'\u001b[39m\u001b[38;5;124mtolerance\u001b[39m\u001b[38;5;124m'\u001b[39m],\\\n\u001b[1;32m    244\u001b[0m                           max_iter\u001b[38;5;241m=\u001b[39m\u001b[38;5;28mself\u001b[39m\u001b[38;5;241m.\u001b[39mpoisson_options[\u001b[38;5;124m'\u001b[39m\u001b[38;5;124mmax_iter\u001b[39m\u001b[38;5;124m'\u001b[39m],mix_rate\u001b[38;5;241m=\u001b[39m\u001b[38;5;28mself\u001b[39m\u001b[38;5;241m.\u001b[39mpoisson_options[\u001b[38;5;124m'\u001b[39m\u001b[38;5;124mmix_rate\u001b[39m\u001b[38;5;124m'\u001b[39m])\n\u001b[1;32m    245\u001b[0m \u001b[38;5;28;01melse\u001b[39;00m:\n\u001b[0;32m--> 246\u001b[0m     \u001b[38;5;28;43mself\u001b[39;49m\u001b[38;5;241;43m.\u001b[39;49m\u001b[43mnegf_compute\u001b[49m\u001b[43m(\u001b[49m\u001b[43mscf_require\u001b[49m\u001b[38;5;241;43m=\u001b[39;49m\u001b[38;5;28;43;01mFalse\u001b[39;49;00m\u001b[43m,\u001b[49m\u001b[43mVbias\u001b[49m\u001b[38;5;241;43m=\u001b[39;49m\u001b[38;5;28;43;01mNone\u001b[39;49;00m\u001b[43m)\u001b[49m\n",
      "File \u001b[0;32m/opt/mamba/envs/deeptb-dev/lib/python3.10/site-packages/dptb/postprocess/NEGF.py:425\u001b[0m, in \u001b[0;36mNEGF.negf_compute\u001b[0;34m(self, scf_require, Vbias)\u001b[0m\n\u001b[1;32m    421\u001b[0m             \u001b[38;5;28;01melse\u001b[39;00m:\n\u001b[1;32m    422\u001b[0m                 \u001b[38;5;28mgetattr\u001b[39m(\u001b[38;5;28mself\u001b[39m\u001b[38;5;241m.\u001b[39mdeviceprop, ll)\u001b[38;5;241m.\u001b[39mvoltage \u001b[38;5;241m=\u001b[39m \u001b[38;5;28mself\u001b[39m\u001b[38;5;241m.\u001b[39mpotential_at_atom[\u001b[38;5;28mself\u001b[39m\u001b[38;5;241m.\u001b[39mright_connected]\u001b[38;5;241m.\u001b[39mmean()\n\u001b[0;32m--> 425\u001b[0m         \u001b[38;5;28;43mgetattr\u001b[39;49m\u001b[43m(\u001b[49m\u001b[38;5;28;43mself\u001b[39;49m\u001b[38;5;241;43m.\u001b[39;49m\u001b[43mdeviceprop\u001b[49m\u001b[43m,\u001b[49m\u001b[43m \u001b[49m\u001b[43mll\u001b[49m\u001b[43m)\u001b[49m\u001b[38;5;241;43m.\u001b[39;49m\u001b[43mself_energy\u001b[49m\u001b[43m(\u001b[49m\n\u001b[1;32m    426\u001b[0m \u001b[43m            \u001b[49m\u001b[43menergy\u001b[49m\u001b[38;5;241;43m=\u001b[39;49m\u001b[43me\u001b[49m\u001b[43m,\u001b[49m\u001b[43m \u001b[49m\n\u001b[1;32m    427\u001b[0m \u001b[43m            \u001b[49m\u001b[43mkpoint\u001b[49m\u001b[38;5;241;43m=\u001b[39;49m\u001b[43mk\u001b[49m\u001b[43m,\u001b[49m\u001b[43m \u001b[49m\n\u001b[1;32m    428\u001b[0m \u001b[43m            \u001b[49m\u001b[43meta_lead\u001b[49m\u001b[38;5;241;43m=\u001b[39;49m\u001b[38;5;28;43mself\u001b[39;49m\u001b[38;5;241;43m.\u001b[39;49m\u001b[43meta_lead\u001b[49m\u001b[43m,\u001b[49m\n\u001b[1;32m    429\u001b[0m \u001b[43m            \u001b[49m\u001b[43mmethod\u001b[49m\u001b[38;5;241;43m=\u001b[39;49m\u001b[38;5;28;43mself\u001b[39;49m\u001b[38;5;241;43m.\u001b[39;49m\u001b[43msgf_solver\u001b[49m\n\u001b[1;32m    430\u001b[0m \u001b[43m            \u001b[49m\u001b[43m)\u001b[49m\n\u001b[1;32m    431\u001b[0m         \u001b[38;5;66;03m# self.out[str(ll)+\"_se\"][str(e.numpy())] = getattr(self.deviceprop, ll).se\u001b[39;00m\n\u001b[1;32m    433\u001b[0m \u001b[38;5;28mself\u001b[39m\u001b[38;5;241m.\u001b[39mdeviceprop\u001b[38;5;241m.\u001b[39mcal_green_function(\n\u001b[1;32m    434\u001b[0m     energy\u001b[38;5;241m=\u001b[39me, kpoint\u001b[38;5;241m=\u001b[39mk, \n\u001b[1;32m    435\u001b[0m     eta_device\u001b[38;5;241m=\u001b[39m\u001b[38;5;28mself\u001b[39m\u001b[38;5;241m.\u001b[39meta_device,\n\u001b[1;32m    436\u001b[0m     block_tridiagonal\u001b[38;5;241m=\u001b[39m\u001b[38;5;28mself\u001b[39m\u001b[38;5;241m.\u001b[39mblock_tridiagonal,\n\u001b[1;32m    437\u001b[0m     Vbias\u001b[38;5;241m=\u001b[39mVbias\n\u001b[1;32m    438\u001b[0m     )\n",
      "File \u001b[0;32m/opt/mamba/envs/deeptb-dev/lib/python3.10/site-packages/dptb/negf/lead_property.py:129\u001b[0m, in \u001b[0;36mLeadProperty.self_energy\u001b[0;34m(self, kpoint, energy, eta_lead, method)\u001b[0m\n\u001b[1;32m    126\u001b[0m         \u001b[38;5;28mself\u001b[39m\u001b[38;5;241m.\u001b[39mvoltage_old \u001b[38;5;241m=\u001b[39m \u001b[38;5;28mself\u001b[39m\u001b[38;5;241m.\u001b[39mvoltage\n\u001b[1;32m    127\u001b[0m         \u001b[38;5;28mself\u001b[39m\u001b[38;5;241m.\u001b[39mkpoint \u001b[38;5;241m=\u001b[39m torch\u001b[38;5;241m.\u001b[39mtensor(kpoint)\n\u001b[0;32m--> 129\u001b[0m     \u001b[38;5;28mself\u001b[39m\u001b[38;5;241m.\u001b[39mse, _ \u001b[38;5;241m=\u001b[39m \u001b[43mselfEnergy\u001b[49m\u001b[43m(\u001b[49m\n\u001b[1;32m    130\u001b[0m \u001b[43m        \u001b[49m\u001b[43mee\u001b[49m\u001b[38;5;241;43m=\u001b[39;49m\u001b[43menergy\u001b[49m\u001b[43m,\u001b[49m\n\u001b[1;32m    131\u001b[0m \u001b[43m        \u001b[49m\u001b[43mhL\u001b[49m\u001b[38;5;241;43m=\u001b[39;49m\u001b[38;5;28;43mself\u001b[39;49m\u001b[38;5;241;43m.\u001b[39;49m\u001b[43mHL\u001b[49m\u001b[43m,\u001b[49m\n\u001b[1;32m    132\u001b[0m \u001b[43m        \u001b[49m\u001b[43mhLL\u001b[49m\u001b[38;5;241;43m=\u001b[39;49m\u001b[38;5;28;43mself\u001b[39;49m\u001b[38;5;241;43m.\u001b[39;49m\u001b[43mHLL\u001b[49m\u001b[43m,\u001b[49m\n\u001b[1;32m    133\u001b[0m \u001b[43m        \u001b[49m\u001b[43msL\u001b[49m\u001b[38;5;241;43m=\u001b[39;49m\u001b[38;5;28;43mself\u001b[39;49m\u001b[38;5;241;43m.\u001b[39;49m\u001b[43mSL\u001b[49m\u001b[43m,\u001b[49m\n\u001b[1;32m    134\u001b[0m \u001b[43m        \u001b[49m\u001b[43msLL\u001b[49m\u001b[38;5;241;43m=\u001b[39;49m\u001b[38;5;28;43mself\u001b[39;49m\u001b[38;5;241;43m.\u001b[39;49m\u001b[43mSLL\u001b[49m\u001b[43m,\u001b[49m\n\u001b[1;32m    135\u001b[0m \u001b[43m        \u001b[49m\u001b[43mhDL\u001b[49m\u001b[38;5;241;43m=\u001b[39;49m\u001b[38;5;28;43mself\u001b[39;49m\u001b[38;5;241;43m.\u001b[39;49m\u001b[43mHDL\u001b[49m\u001b[43m,\u001b[49m\n\u001b[1;32m    136\u001b[0m \u001b[43m        \u001b[49m\u001b[43msDL\u001b[49m\u001b[38;5;241;43m=\u001b[39;49m\u001b[38;5;28;43mself\u001b[39;49m\u001b[38;5;241;43m.\u001b[39;49m\u001b[43mSDL\u001b[49m\u001b[43m,\u001b[49m\u001b[43m             \u001b[49m\u001b[38;5;66;43;03m#TODO: check chemiPot settiing is correct or not\u001b[39;49;00m\n\u001b[1;32m    137\u001b[0m \u001b[43m        \u001b[49m\u001b[43mchemiPot\u001b[49m\u001b[38;5;241;43m=\u001b[39;49m\u001b[38;5;28;43mself\u001b[39;49m\u001b[38;5;241;43m.\u001b[39;49m\u001b[43mefermi\u001b[49m\u001b[43m,\u001b[49m\u001b[43m \u001b[49m\u001b[38;5;66;43;03m# temmporarily change to self.efermi for the case in which applying lead bias to corresponding to Nanotcad\u001b[39;49;00m\n\u001b[1;32m    138\u001b[0m \u001b[43m        \u001b[49m\u001b[43metaLead\u001b[49m\u001b[38;5;241;43m=\u001b[39;49m\u001b[43meta_lead\u001b[49m\u001b[43m,\u001b[49m\u001b[43m \u001b[49m\n\u001b[1;32m    139\u001b[0m \u001b[43m        \u001b[49m\u001b[43mmethod\u001b[49m\u001b[38;5;241;43m=\u001b[39;49m\u001b[43mmethod\u001b[49m\n\u001b[1;32m    140\u001b[0m \u001b[43m    \u001b[49m\u001b[43m)\u001b[49m\n\u001b[1;32m    142\u001b[0m     \u001b[38;5;66;03m# torch.save(self.se, os.path.join(self.results_path, f\"se_nobloch_k{kpoint[0]}_{kpoint[1]}_{kpoint[2]}_{energy}.pth\"))\u001b[39;00m\n\u001b[1;32m    143\u001b[0m \n\u001b[1;32m    144\u001b[0m \u001b[38;5;28;01melse\u001b[39;00m:\n\u001b[1;32m    145\u001b[0m     \u001b[38;5;28;01mif\u001b[39;00m \u001b[38;5;129;01mnot\u001b[39;00m \u001b[38;5;28mhasattr\u001b[39m(\u001b[38;5;28mself\u001b[39m, \u001b[38;5;124m\"\u001b[39m\u001b[38;5;124mHL\u001b[39m\u001b[38;5;124m\"\u001b[39m) \u001b[38;5;129;01mor\u001b[39;00m \u001b[38;5;28mabs\u001b[39m(\u001b[38;5;28mself\u001b[39m\u001b[38;5;241m.\u001b[39mvoltage_old\u001b[38;5;241m-\u001b[39m\u001b[38;5;28mself\u001b[39m\u001b[38;5;241m.\u001b[39mvoltage)\u001b[38;5;241m>\u001b[39m\u001b[38;5;241m1e-6\u001b[39m \u001b[38;5;129;01mor\u001b[39;00m \u001b[38;5;28mmax\u001b[39m(\u001b[38;5;28mabs\u001b[39m(\u001b[38;5;28mself\u001b[39m\u001b[38;5;241m.\u001b[39mkpoint\u001b[38;5;241m-\u001b[39mtorch\u001b[38;5;241m.\u001b[39mtensor(kpoint)))\u001b[38;5;241m>\u001b[39m\u001b[38;5;241m1e-6\u001b[39m:\n",
      "File \u001b[0;32m/opt/mamba/envs/deeptb-dev/lib/python3.10/site-packages/dptb/negf/surface_green.py:203\u001b[0m, in \u001b[0;36mselfEnergy\u001b[0;34m(hL, hLL, sL, sLL, ee, hDL, sDL, etaLead, Bulk, chemiPot, dtype, device, method)\u001b[0m\n\u001b[1;32m    201\u001b[0m \u001b[38;5;28;01melse\u001b[39;00m:\n\u001b[1;32m    202\u001b[0m     a, b \u001b[38;5;241m=\u001b[39m hDL\u001b[38;5;241m.\u001b[39mshape\n\u001b[0;32m--> 203\u001b[0m     SGF \u001b[38;5;241m=\u001b[39m \u001b[43mSurfaceGreen\u001b[49m\u001b[38;5;241;43m.\u001b[39;49m\u001b[43mapply\u001b[49m\u001b[43m(\u001b[49m\u001b[43mhL\u001b[49m\u001b[43m,\u001b[49m\u001b[43m \u001b[49m\u001b[43mhLL\u001b[49m\u001b[43m,\u001b[49m\u001b[43m \u001b[49m\u001b[43msL\u001b[49m\u001b[43m,\u001b[49m\u001b[43m \u001b[49m\u001b[43msLL\u001b[49m\u001b[43m,\u001b[49m\u001b[43m \u001b[49m\u001b[43meeshifted\u001b[49m\u001b[43m \u001b[49m\u001b[38;5;241;43m+\u001b[39;49m\u001b[43m \u001b[49m\u001b[38;5;241;43m1\u001b[39;49m\u001b[43mj\u001b[49m\u001b[43m \u001b[49m\u001b[38;5;241;43m*\u001b[39;49m\u001b[43m \u001b[49m\u001b[43metaLead\u001b[49m\u001b[43m,\u001b[49m\u001b[43m \u001b[49m\u001b[43mmethod\u001b[49m\u001b[43m)\u001b[49m\n\u001b[1;32m    204\u001b[0m     \u001b[38;5;66;03m#SGF = iterative_simple(eeshifted + 1j * etaLead, hL, hLL, sL, sLL, iter_max=1000)\u001b[39;00m\n\u001b[1;32m    205\u001b[0m     Sig \u001b[38;5;241m=\u001b[39m (eeshifted\u001b[38;5;241m*\u001b[39msDL\u001b[38;5;241m-\u001b[39mhDL) \u001b[38;5;241m@\u001b[39m SGF[:b,:b] \u001b[38;5;241m@\u001b[39m (eeshifted\u001b[38;5;241m*\u001b[39msDL\u001b[38;5;241m.\u001b[39mconj()\u001b[38;5;241m.\u001b[39mT\u001b[38;5;241m-\u001b[39mhDL\u001b[38;5;241m.\u001b[39mconj()\u001b[38;5;241m.\u001b[39mT)\n",
      "File \u001b[0;32m/opt/mamba/envs/deeptb-dev/lib/python3.10/site-packages/torch/autograd/function.py:539\u001b[0m, in \u001b[0;36mFunction.apply\u001b[0;34m(cls, *args, **kwargs)\u001b[0m\n\u001b[1;32m    536\u001b[0m \u001b[38;5;28;01mif\u001b[39;00m \u001b[38;5;129;01mnot\u001b[39;00m torch\u001b[38;5;241m.\u001b[39m_C\u001b[38;5;241m.\u001b[39m_are_functorch_transforms_active():\n\u001b[1;32m    537\u001b[0m     \u001b[38;5;66;03m# See NOTE: [functorch vjp and autograd interaction]\u001b[39;00m\n\u001b[1;32m    538\u001b[0m     args \u001b[38;5;241m=\u001b[39m _functorch\u001b[38;5;241m.\u001b[39mutils\u001b[38;5;241m.\u001b[39munwrap_dead_wrappers(args)\n\u001b[0;32m--> 539\u001b[0m     \u001b[38;5;28;01mreturn\u001b[39;00m \u001b[38;5;28;43msuper\u001b[39;49m\u001b[43m(\u001b[49m\u001b[43m)\u001b[49m\u001b[38;5;241;43m.\u001b[39;49m\u001b[43mapply\u001b[49m\u001b[43m(\u001b[49m\u001b[38;5;241;43m*\u001b[39;49m\u001b[43margs\u001b[49m\u001b[43m,\u001b[49m\u001b[43m \u001b[49m\u001b[38;5;241;43m*\u001b[39;49m\u001b[38;5;241;43m*\u001b[39;49m\u001b[43mkwargs\u001b[49m\u001b[43m)\u001b[49m  \u001b[38;5;66;03m# type: ignore[misc]\u001b[39;00m\n\u001b[1;32m    541\u001b[0m \u001b[38;5;28;01mif\u001b[39;00m \u001b[38;5;28mcls\u001b[39m\u001b[38;5;241m.\u001b[39msetup_context \u001b[38;5;241m==\u001b[39m _SingleLevelFunction\u001b[38;5;241m.\u001b[39msetup_context:\n\u001b[1;32m    542\u001b[0m     \u001b[38;5;28;01mraise\u001b[39;00m \u001b[38;5;167;01mRuntimeError\u001b[39;00m(\n\u001b[1;32m    543\u001b[0m         \u001b[38;5;124m\"\u001b[39m\u001b[38;5;124mIn order to use an autograd.Function with functorch transforms \u001b[39m\u001b[38;5;124m\"\u001b[39m\n\u001b[1;32m    544\u001b[0m         \u001b[38;5;124m\"\u001b[39m\u001b[38;5;124m(vmap, grad, jvp, jacrev, ...), it must override the setup_context \u001b[39m\u001b[38;5;124m\"\u001b[39m\n\u001b[1;32m    545\u001b[0m         \u001b[38;5;124m\"\u001b[39m\u001b[38;5;124mstaticmethod. For more details, please see \u001b[39m\u001b[38;5;124m\"\u001b[39m\n\u001b[1;32m    546\u001b[0m         \u001b[38;5;124m\"\u001b[39m\u001b[38;5;124mhttps://pytorch.org/docs/master/notes/extending.func.html\u001b[39m\u001b[38;5;124m\"\u001b[39m\n\u001b[1;32m    547\u001b[0m     )\n",
      "File \u001b[0;32m/opt/mamba/envs/deeptb-dev/lib/python3.10/site-packages/dptb/negf/surface_green.py:46\u001b[0m, in \u001b[0;36mSurfaceGreen.forward\u001b[0;34m(ctx, H, h01, S, s01, ee, method)\u001b[0m\n\u001b[1;32m     44\u001b[0m oldeps, oldepss \u001b[38;5;241m=\u001b[39m eps\u001b[38;5;241m.\u001b[39mclone(), epss\u001b[38;5;241m.\u001b[39mclone()\n\u001b[1;32m     45\u001b[0m oldalpha, oldbeta \u001b[38;5;241m=\u001b[39m alpha\u001b[38;5;241m.\u001b[39mclone(), beta\u001b[38;5;241m.\u001b[39mclone()\n\u001b[0;32m---> 46\u001b[0m tmpa \u001b[38;5;241m=\u001b[39m \u001b[43mtLA\u001b[49m\u001b[38;5;241;43m.\u001b[39;49m\u001b[43msolve\u001b[49m\u001b[43m(\u001b[49m\u001b[43mee\u001b[49m\u001b[43m \u001b[49m\u001b[38;5;241;43m*\u001b[39;49m\u001b[43m \u001b[49m\u001b[43mS\u001b[49m\u001b[43m \u001b[49m\u001b[38;5;241;43m-\u001b[39;49m\u001b[43m \u001b[49m\u001b[43moldeps\u001b[49m\u001b[43m,\u001b[49m\u001b[43m \u001b[49m\u001b[43moldalpha\u001b[49m\u001b[43m)\u001b[49m\n\u001b[1;32m     47\u001b[0m tmpb \u001b[38;5;241m=\u001b[39m tLA\u001b[38;5;241m.\u001b[39msolve(ee \u001b[38;5;241m*\u001b[39m S \u001b[38;5;241m-\u001b[39m oldeps, oldbeta)\n\u001b[1;32m     49\u001b[0m alpha, beta \u001b[38;5;241m=\u001b[39m torch\u001b[38;5;241m.\u001b[39mmm(oldalpha, tmpa), torch\u001b[38;5;241m.\u001b[39mmm(oldbeta, tmpb)\n",
      "\u001b[0;31mKeyboardInterrupt\u001b[0m: "
     ]
    },
    {
     "data": {
      "image/png": "[encoded data removed]",
      "text/plain": [
       "<Figure size 640x480 with 1 Axes>"
      ]
     },
     "metadata": {},
     "output_type": "display_data"
    }
   ],
   "source": [
    "from dptb.postprocess.NEGF import NEGF\n",
    "from dptb.nn.build import build_model\n",
    "import json\n",
    "\n",
    "from dptb.utils.loggers import set_log_handles\n",
    "import logging\n",
    "from pathlib import Path\n",
    "\n",
    "from dptb.nn.dftbsk import DFTBSK\n",
    "\n",
    "\n",
    "# skdata=\"/personal/DFTB/skfiles/ptbp/complete_set\"\n",
    "# # skdata = '/personal/DFTB/skfiles/ptbp/complete_set'\n",
    "# basis={\"Au\": [\"5d\", \"6s\", \"6p\"]}\n",
    "# model = DFTBSK(basis=basis, skdata=skdata,overlap=True)\n",
    "\n",
    "\n",
    "# common_options= {\n",
    "#             \"basis\": {\n",
    "#                 \"Au\": [\"5d\",\"6s\",\"6p\"]\n",
    "#             },\n",
    "#             \"device\": \"cpu\",\n",
    "#             \"dtype\": \"float32\",\n",
    "#             \"overlap\": True,\n",
    "#             \"seed\": 3204\n",
    "#     }\n",
    "common_options= {\"device\": \"cpu\"}\n",
    "model = build_model(checkpoint=\"/personal/DFTB/Au_Ag/Au_TS/train_input_e3/nnenv.ep6484.pth\",\n",
    "                    common_options=common_options)\n",
    "\n",
    "\n",
    "results_path='/personal/DeepTB/dptb_Zjj/DeePTB/dptb/negf/bloch_files/negf_out'\n",
    "# input_path='/personal/DFTB/Au_Ag/Au_TS/TS/negf_dptb_sub/sub_Au_400/run_input_Au400_2PL_bloch.json'\n",
    "# structure = '/personal/DFTB/Au_Ag/Au_TS/TS/negf_dptb_sub/sub_Au_400/Au400_2PL.xyz'\n",
    "# structure = '/personal/DFTB/Au_Ag/Au_TS/TS/negf_dptb_sub/sub_Au_400/Au400_2PL_sort.xyz'\n",
    "\n",
    "# results_path='/personal/DeepTB/dptb_Zjj/DeePTB/dptb/negf/bloch_files/negf_out_150'\n",
    "input_path='/personal/DFTB/Au_Ag/Au_TS/TS/dptb_trans_input/run_input_Au150_2PL.json'\n",
    "structure = '/personal/DFTB/Au_Ag/Au_TS/TS/Au_mcbj_150_bloch/sub_files/Au150_2PL2.xyz'\n",
    "\n",
    "\n",
    "\n",
    "negf_json = json.load(open(input_path))\n",
    "# model_json = json.load(open(model))\n",
    "\n",
    "log_path = results_path+'/log'\n",
    "log_level = logging.INFO\n",
    "set_log_handles(log_level, Path(log_path) if log_path else None)\n",
    "\n",
    "# model = build_model(model,model_options= model_json['model_options'],common_options=model_json['common_options'])\n",
    "\n",
    "negf = NEGF(\n",
    "    model=model,\n",
    "    AtomicData_options=negf_json['AtomicData_options'],\n",
    "    structure=structure,\n",
    "    results_path=results_path,  \n",
    "    **negf_json['task_options']\n",
    ")\n",
    "   \n",
    "negf.compute()\n"
   ]
  },
  {
   "cell_type": "code",
   "execution_count": 16,
   "metadata": {},
   "outputs": [
    {
     "data": {
      "text/plain": [
       "array([  0,   1,  16,  17,  32,  33,   2,   3,  18,  19,  34,  35,  48,\n",
       "        49,  64,  65,  80,  81,  50,  51,  66,  67,  82,  83,  96,  97,\n",
       "       112, 113, 128, 129,  98,  99, 114, 115, 130, 131,   4,   5,  20,\n",
       "        21,  36,  37,   6,   7,  22,  23,  38,  39,  52,  53,  68,  69,\n",
       "        84,  85,  54,  55,  70,  71,  86,  87, 100, 101, 116, 117, 132,\n",
       "       133, 102, 103, 118, 119, 134, 135,   8,   9,  24,  25,  40,  41,\n",
       "        10,  11,  26,  27,  42,  43,  56,  57,  72,  73,  88,  89,  58,\n",
       "        59,  74,  75,  90,  91, 104, 105, 120, 121, 136, 137, 106, 107,\n",
       "       122, 123, 138, 139,  12,  13,  28,  29,  44,  45,  14,  15,  30,\n",
       "        31,  46,  47,  60,  61,  76,  77,  92,  93,  62,  63,  78,  79,\n",
       "        94,  95, 108, 109, 124, 125, 140, 141, 110, 111, 126, 127, 142,\n",
       "       143])"
      ]
     },
     "execution_count": 16,
     "metadata": {},
     "output_type": "execute_result"
    }
   ],
   "source": [
    "import torch\n",
    "import numpy as np\n",
    "from scipy.spatial import KDTree\n",
    "from ase.io import read\n",
    "\n",
    "struct_lead = read('/personal/DeepTB/dptb_Zjj/DeePTB/dptb/negf/bloch_files/negf_out/stru_leadall_lead_R.xyz')\n",
    "expand_pos = np.load('/personal/DeepTB/dptb_Zjj/DeePTB/dptb/negf/bloch_files/negf_out/expand_pos_lead_R.npy')\n",
    "struct_lead_minz = struct_lead.positions[:int(len(struct_lead)/2),2].min()\n",
    "struct_lead_pos = np.array([pos - np.array([0,0,1])*struct_lead_minz for pos in struct_lead.positions[:int(len(struct_lead)/2)]])\n",
    "kdtree = KDTree(expand_pos)\n",
    "_, sorted_indices = kdtree.query(struct_lead_pos,k=1,eps=1e-4)\n",
    "sorted_indices"
   ]
  },
  {
   "cell_type": "code",
   "execution_count": 13,
   "metadata": {},
   "outputs": [
    {
     "data": {
      "text/plain": [
       "array([1.46980599, 4.40941973, 2.07878122])"
      ]
     },
     "execution_count": 13,
     "metadata": {},
     "output_type": "execute_result"
    }
   ],
   "source": [
    "expand_pos[6]"
   ]
  },
  {
   "cell_type": "code",
   "execution_count": 14,
   "metadata": {},
   "outputs": [
    {
     "data": {
      "text/plain": [
       "array([5.87922042, 0.        , 0.        ])"
      ]
     },
     "execution_count": 14,
     "metadata": {},
     "output_type": "execute_result"
    }
   ],
   "source": [
    "struct_lead_pos[2]"
   ]
  },
  {
   "cell_type": "code",
   "execution_count": null,
   "metadata": {},
   "outputs": [
    {
     "data": {
      "text/plain": [
       "dict_keys(['kpoints', 'hd', 'hu', 'hl', 'sd', 'su', 'sl'])"
      ]
     },
     "execution_count": 7,
     "metadata": {},
     "output_type": "execute_result"
    }
   ],
   "source": [
    "hs_device = torch.load('/personal/DeepTB/dptb_Zjj/DeePTB/dptb/negf/bloch_files/negf_out/HS_device.pth')\n",
    "hs_device.keys()"
   ]
  },
  {
   "cell_type": "code",
   "execution_count": null,
   "metadata": {},
   "outputs": [
    {
     "data": {
      "text/plain": [
       "array([[0. , 0. , 0. ],\n",
       "       [0. , 0.5, 0. ],\n",
       "       [0.5, 0. , 0. ],\n",
       "       [0.5, 0.5, 0. ]])"
      ]
     },
     "execution_count": 8,
     "metadata": {},
     "output_type": "execute_result"
    }
   ],
   "source": [
    "hs_device['kpoints']"
   ]
  },
  {
   "cell_type": "code",
   "execution_count": 2,
   "metadata": {},
   "outputs": [],
   "source": [
    "import numpy as np\n"
   ]
  },
  {
   "cell_type": "code",
   "execution_count": null,
   "metadata": {},
   "outputs": [
    {
     "name": "stdout",
     "output_type": "stream",
     "text": [
      "kpoint: tensor([0., 0., 0.])\n",
      "kpoint: [0.0, 0.0, 0.0]\n",
      "kpoints_lead: [[0.         0.         0.        ]\n",
      " [0.33333333 0.         0.        ]\n",
      " [0.66666667 0.         0.        ]\n",
      " [0.         0.33333333 0.        ]\n",
      " [0.33333333 0.33333333 0.        ]\n",
      " [0.66666667 0.33333333 0.        ]\n",
      " [0.         0.66666667 0.        ]\n",
      " [0.33333333 0.66666667 0.        ]\n",
      " [0.66666667 0.66666667 0.        ]]\n"
     ]
    },
    {
     "data": {
      "text/plain": [
       "array([[0.        , 0.        , 0.        ],\n",
       "       [0.33333333, 0.        , 0.        ],\n",
       "       [0.66666667, 0.        , 0.        ],\n",
       "       [0.        , 0.33333333, 0.        ],\n",
       "       [0.33333333, 0.33333333, 0.        ],\n",
       "       [0.66666667, 0.33333333, 0.        ],\n",
       "       [0.        , 0.66666667, 0.        ],\n",
       "       [0.33333333, 0.66666667, 0.        ],\n",
       "       [0.66666667, 0.66666667, 0.        ]])"
      ]
     },
     "execution_count": 6,
     "metadata": {},
     "output_type": "execute_result"
    }
   ],
   "source": [
    "from dptb.negf.bloch import Bloch\n",
    "import torch\n",
    "\n",
    "\n",
    "# bloch_unfolder = Bloch(bloch_factor)\n",
    "\n",
    "# kpoint = [0.0, 0.0, 0.0]\n",
    "# kpoint = torch.tensor(kpoint)\n",
    "# print(kpoint)\n",
    "# kpoints_lead = bloch_unfolder.unfold_points(kpoint.tolist())\n",
    "\n",
    "bloch_factor = [3,3,1]\n",
    "kpoint = [0.0, 0.0, 0.0]\n",
    "kpoint = torch.tensor(kpoint)\n",
    "bloch_unfolder = Bloch(bloch_factor)\n",
    "print('kpoint:',kpoint)\n",
    "print('kpoint:',kpoint.tolist())\n",
    "kpoints_lead = bloch_unfolder.unfold_points(kpoint.tolist())\n",
    "print('kpoints_lead:',kpoints_lead)\n",
    "\n",
    "\n",
    "kpoints_lead"
   ]
  },
  {
   "cell_type": "code",
   "execution_count": 1,
   "metadata": {},
   "outputs": [
    {
     "ename": "AttributeError",
     "evalue": "'Tensor' object has no attribute 'keys'",
     "output_type": "error",
     "traceback": [
      "\u001b[0;31m---------------------------------------------------------------------------\u001b[0m",
      "\u001b[0;31mAttributeError\u001b[0m                            Traceback (most recent call last)",
      "Cell \u001b[0;32mIn[1], line 6\u001b[0m\n\u001b[1;32m      4\u001b[0m negf_out_bloch \u001b[38;5;241m=\u001b[39m torch\u001b[38;5;241m.\u001b[39mload(\u001b[38;5;124m'\u001b[39m\u001b[38;5;124m/personal/DeepTB/dptb_Zjj/DeePTB/dptb/negf/bloch_files/negf_out_150/se_bloch_k0.0_0.0_0.0_0.0.pth\u001b[39m\u001b[38;5;124m'\u001b[39m)\n\u001b[1;32m      5\u001b[0m negf_out \u001b[38;5;241m=\u001b[39m torch\u001b[38;5;241m.\u001b[39mload(\u001b[38;5;124m'\u001b[39m\u001b[38;5;124m/personal/DeepTB/dptb_Zjj/DeePTB/dptb/negf/bloch_files/negf_out_150/se_nobloch_k0.0_0.0_0.0_0.0.pth\u001b[39m\u001b[38;5;124m'\u001b[39m)\n\u001b[0;32m----> 6\u001b[0m \u001b[43mnegf_out\u001b[49m\u001b[38;5;241;43m.\u001b[39;49m\u001b[43mkeys\u001b[49m()\n",
      "\u001b[0;31mAttributeError\u001b[0m: 'Tensor' object has no attribute 'keys'"
     ]
    }
   ],
   "source": [
    "import torch\n",
    "import matplotlib.pyplot as plt\n",
    "\n",
    "negf_out_bloch = torch.load('/personal/DeepTB/dptb_Zjj/DeePTB/dptb/negf/bloch_files/negf_out/negf.out.pth')\n",
    "negf_out = torch.load('/personal/DFTB/Au_Ag/Au_TS/TS/negf_dptb_sub/sub_Au150/negf_out/negf.out.pth')\n",
    "negf_out.keys()"
   ]
  },
  {
   "cell_type": "code",
   "execution_count": null,
   "metadata": {},
   "outputs": [
    {
     "data": {
      "text/plain": [
       "dict_keys(['[0. 0. 0.]', '[0.  0.5 0. ]', '[0.5 0.  0. ]', '[0.5 0.5 0. ]'])"
      ]
     },
     "execution_count": 11,
     "metadata": {},
     "output_type": "execute_result"
    }
   ],
   "source": [
    "negf_out['T_k'].keys()"
   ]
  },
  {
   "cell_type": "code",
   "execution_count": 3,
   "metadata": {},
   "outputs": [
    {
     "data": {
      "image/png": "[encoded data removed]",
      "text/plain": [
       "<Figure size 640x480 with 1 Axes>"
      ]
     },
     "metadata": {},
     "output_type": "display_data"
    }
   ],
   "source": [
    "plt.plot(negf_out['uni_grid']-3.1,negf_out['T_avg'])\n",
    "plt.plot(negf_out_bloch['uni_grid'],negf_out_bloch['T_avg'])\n",
    "plt.xlabel('Energy (eV)')\n",
    "plt.ylabel('Transmission')\n",
    "plt.show()"
   ]
  },
  {
   "cell_type": "code",
   "execution_count": 1,
   "metadata": {},
   "outputs": [
    {
     "ename": "FileNotFoundError",
     "evalue": "[Errno 2] No such file or directory: '/personal/DeepTB/dptb_Zjj/DeePTB/dptb/negf/bloch_files/negf_out/se_bloch_k0.0_0.0_0.0_0.25.pth'",
     "output_type": "error",
     "traceback": [
      "\u001b[0;31m---------------------------------------------------------------------------\u001b[0m",
      "\u001b[0;31mFileNotFoundError\u001b[0m                         Traceback (most recent call last)",
      "Cell \u001b[0;32mIn[1], line 2\u001b[0m\n\u001b[1;32m      1\u001b[0m \u001b[38;5;28;01mimport\u001b[39;00m \u001b[38;5;21;01mtorch\u001b[39;00m\n\u001b[0;32m----> 2\u001b[0m se_bloch \u001b[38;5;241m=\u001b[39m \u001b[43mtorch\u001b[49m\u001b[38;5;241;43m.\u001b[39;49m\u001b[43mload\u001b[49m\u001b[43m(\u001b[49m\u001b[38;5;124;43m'\u001b[39;49m\u001b[38;5;124;43m/personal/DeepTB/dptb_Zjj/DeePTB/dptb/negf/bloch_files/negf_out/se_bloch_k0.0_0.0_0.0_0.25.pth\u001b[39;49m\u001b[38;5;124;43m'\u001b[39;49m\u001b[43m)\u001b[49m\n\u001b[1;32m      3\u001b[0m se_nobloch \u001b[38;5;241m=\u001b[39m  torch\u001b[38;5;241m.\u001b[39mload(\u001b[38;5;124m'\u001b[39m\u001b[38;5;124m/personal/DeepTB/dptb_Zjj/DeePTB/dptb/negf/bloch_files/negf_out/se_nobloch_k0.0_0.0_0.0_0.25.pth\u001b[39m\u001b[38;5;124m'\u001b[39m)\n",
      "File \u001b[0;32m/opt/mamba/envs/deeptb-dev/lib/python3.10/site-packages/torch/serialization.py:986\u001b[0m, in \u001b[0;36mload\u001b[0;34m(f, map_location, pickle_module, weights_only, mmap, **pickle_load_args)\u001b[0m\n\u001b[1;32m    983\u001b[0m \u001b[38;5;28;01mif\u001b[39;00m \u001b[38;5;124m'\u001b[39m\u001b[38;5;124mencoding\u001b[39m\u001b[38;5;124m'\u001b[39m \u001b[38;5;129;01mnot\u001b[39;00m \u001b[38;5;129;01min\u001b[39;00m pickle_load_args\u001b[38;5;241m.\u001b[39mkeys():\n\u001b[1;32m    984\u001b[0m     pickle_load_args[\u001b[38;5;124m'\u001b[39m\u001b[38;5;124mencoding\u001b[39m\u001b[38;5;124m'\u001b[39m] \u001b[38;5;241m=\u001b[39m \u001b[38;5;124m'\u001b[39m\u001b[38;5;124mutf-8\u001b[39m\u001b[38;5;124m'\u001b[39m\n\u001b[0;32m--> 986\u001b[0m \u001b[38;5;28;01mwith\u001b[39;00m \u001b[43m_open_file_like\u001b[49m\u001b[43m(\u001b[49m\u001b[43mf\u001b[49m\u001b[43m,\u001b[49m\u001b[43m \u001b[49m\u001b[38;5;124;43m'\u001b[39;49m\u001b[38;5;124;43mrb\u001b[39;49m\u001b[38;5;124;43m'\u001b[39;49m\u001b[43m)\u001b[49m \u001b[38;5;28;01mas\u001b[39;00m opened_file:\n\u001b[1;32m    987\u001b[0m     \u001b[38;5;28;01mif\u001b[39;00m _is_zipfile(opened_file):\n\u001b[1;32m    988\u001b[0m         \u001b[38;5;66;03m# The zipfile reader is going to advance the current file position.\u001b[39;00m\n\u001b[1;32m    989\u001b[0m         \u001b[38;5;66;03m# If we want to actually tail call to torch.jit.load, we need to\u001b[39;00m\n\u001b[1;32m    990\u001b[0m         \u001b[38;5;66;03m# reset back to the original position.\u001b[39;00m\n\u001b[1;32m    991\u001b[0m         orig_position \u001b[38;5;241m=\u001b[39m opened_file\u001b[38;5;241m.\u001b[39mtell()\n",
      "File \u001b[0;32m/opt/mamba/envs/deeptb-dev/lib/python3.10/site-packages/torch/serialization.py:435\u001b[0m, in \u001b[0;36m_open_file_like\u001b[0;34m(name_or_buffer, mode)\u001b[0m\n\u001b[1;32m    433\u001b[0m \u001b[38;5;28;01mdef\u001b[39;00m \u001b[38;5;21m_open_file_like\u001b[39m(name_or_buffer, mode):\n\u001b[1;32m    434\u001b[0m     \u001b[38;5;28;01mif\u001b[39;00m _is_path(name_or_buffer):\n\u001b[0;32m--> 435\u001b[0m         \u001b[38;5;28;01mreturn\u001b[39;00m \u001b[43m_open_file\u001b[49m\u001b[43m(\u001b[49m\u001b[43mname_or_buffer\u001b[49m\u001b[43m,\u001b[49m\u001b[43m \u001b[49m\u001b[43mmode\u001b[49m\u001b[43m)\u001b[49m\n\u001b[1;32m    436\u001b[0m     \u001b[38;5;28;01melse\u001b[39;00m:\n\u001b[1;32m    437\u001b[0m         \u001b[38;5;28;01mif\u001b[39;00m \u001b[38;5;124m'\u001b[39m\u001b[38;5;124mw\u001b[39m\u001b[38;5;124m'\u001b[39m \u001b[38;5;129;01min\u001b[39;00m mode:\n",
      "File \u001b[0;32m/opt/mamba/envs/deeptb-dev/lib/python3.10/site-packages/torch/serialization.py:416\u001b[0m, in \u001b[0;36m_open_file.__init__\u001b[0;34m(self, name, mode)\u001b[0m\n\u001b[1;32m    415\u001b[0m \u001b[38;5;28;01mdef\u001b[39;00m \u001b[38;5;21m__init__\u001b[39m(\u001b[38;5;28mself\u001b[39m, name, mode):\n\u001b[0;32m--> 416\u001b[0m     \u001b[38;5;28msuper\u001b[39m()\u001b[38;5;241m.\u001b[39m\u001b[38;5;21m__init__\u001b[39m(\u001b[38;5;28;43mopen\u001b[39;49m\u001b[43m(\u001b[49m\u001b[43mname\u001b[49m\u001b[43m,\u001b[49m\u001b[43m \u001b[49m\u001b[43mmode\u001b[49m\u001b[43m)\u001b[49m)\n",
      "\u001b[0;31mFileNotFoundError\u001b[0m: [Errno 2] No such file or directory: '/personal/DeepTB/dptb_Zjj/DeePTB/dptb/negf/bloch_files/negf_out/se_bloch_k0.0_0.0_0.0_0.25.pth'"
     ]
    }
   ],
   "source": [
    "import torch\n",
    "se_bloch = torch.load('/personal/DeepTB/dptb_Zjj/DeePTB/dptb/negf/bloch_files/negf_out/se_bloch_k0.0_0.0_0.0_0.25.pth')\n",
    "se_nobloch =  torch.load('/personal/DeepTB/dptb_Zjj/DeePTB/dptb/negf/bloch_files/negf_out/se_nobloch_k0.0_0.0_0.0_0.25.pth')"
   ]
  },
  {
   "cell_type": "code",
   "execution_count": 5,
   "metadata": {},
   "outputs": [
    {
     "data": {
      "image/png": "[encoded data removed]",
      "text/plain": [
       "<Figure size 480x480 with 1 Axes>"
      ]
     },
     "metadata": {},
     "output_type": "display_data"
    },
    {
     "data": {
      "image/png": "[encoded data removed]",
      "text/plain": [
       "<Figure size 480x480 with 1 Axes>"
      ]
     },
     "metadata": {},
     "output_type": "display_data"
    },
    {
     "data": {
      "image/png": "[encoded data removed]",
      "text/plain": [
       "<Figure size 480x480 with 1 Axes>"
      ]
     },
     "metadata": {},
     "output_type": "display_data"
    }
   ],
   "source": [
    "# abs(se_bloch- se_nobloch)\n",
    "import matplotlib.pyplot as plt\n",
    "#可能是排序问题\n",
    "plt.matshow(abs(se_bloch),vmin=-0.05,vmax=0.05)\n",
    "plt.show()\n",
    "plt.matshow(abs(se_nobloch),vmin=-0.05,vmax=0.05)\n",
    "plt.show()\n",
    "plt.matshow(abs(se_bloch-se_nobloch),vmin=-0.05,vmax=0.05)\n",
    "plt.show()"
   ]
  },
  {
   "cell_type": "code",
   "execution_count": 4,
   "metadata": {},
   "outputs": [],
   "source": [
    "from ase.io import read,write\n",
    "from ase.build import sort\n",
    "\n",
    "stru_lead_fold = read('/personal/DFTB/Au_Ag/Au_TS/TS/negf_dptb_sub/sub_Au_400/Au400_2PL.xyz')\n",
    "stru_lead_fold = sort(stru_lead_fold,tags=stru_lead_fold.positions[:,0])\n",
    "stru_lead_fold = sort(stru_lead_fold,tags=stru_lead_fold.positions[:,1])\n",
    "stru_lead_fold = sort(stru_lead_fold,tags=stru_lead_fold.positions[:,2])\n",
    "write('/personal/DFTB/Au_Ag/Au_TS/TS/negf_dptb_sub/sub_Au_400/Au400_2PL_sort.xyz',stru_lead_fold)"
   ]
  },
  {
   "cell_type": "code",
   "execution_count": 1,
   "metadata": {},
   "outputs": [
    {
     "data": {
      "text/plain": [
       "dict_keys(['kpoints', 'HL', 'SL', 'HDL', 'SDL', 'HLL', 'SLL'])"
      ]
     },
     "execution_count": 1,
     "metadata": {},
     "output_type": "execute_result"
    }
   ],
   "source": [
    "import torch\n",
    "HS_lead_small = torch.load('/personal/DeepTB/dptb_Zjj/DeePTB/dptb/negf/bloch_files/HS_lead_small.pth')\n",
    "HS_lead_small.keys()"
   ]
  },
  {
   "cell_type": "code",
   "execution_count": 58,
   "metadata": {},
   "outputs": [],
   "source": [
    "import torch\n",
    "import numpy as np\n",
    "HS_negf = torch.load('/personal/DeepTB/dptb_Zjj/DeePTB/dptb/negf/bloch_files/negf_out/HS_lead_R.pth')\n",
    "HS_negf['HL'].shape\n",
    "HS_negf['kpoints']\n",
    "\n",
    "from dptb.negf.bloch import Bloch\n",
    "bloch_factor = [3,3,1]\n",
    "bloch_unfolder = Bloch(bloch_factor)\n",
    "k_unfolds_list = []\n",
    "for kp in HS_negf['kpoints']:\n",
    "    k_unfolds_list.append(bloch_unfolder.unfold_points(kp))\n",
    "\n",
    "k_unfolds_list\n",
    "k_unfolds = np.concatenate(k_unfolds_list,axis=0)\n",
    "# k_unfolds"
   ]
  },
  {
   "cell_type": "code",
   "execution_count": 4,
   "metadata": {},
   "outputs": [],
   "source": [
    "import torch\n",
    "\n",
    "sorted_L = torch.load('/personal/DeepTB/dptb_Zjj/DeePTB/dptb/negf/bloch_files/negf_out/bloch_sorted_indice_lead_L.pth')\n",
    "sorted_R = torch.load('/personal/DeepTB/dptb_Zjj/DeePTB/dptb/negf/bloch_files/negf_out/bloch_sorted_indice_lead_R.pth')"
   ]
  },
  {
   "cell_type": "code",
   "execution_count": 6,
   "metadata": {},
   "outputs": [
    {
     "data": {
      "text/plain": [
       "tensor(0)"
      ]
     },
     "execution_count": 6,
     "metadata": {},
     "output_type": "execute_result"
    }
   ],
   "source": [
    "abs(sorted_L-sorted_R).max()"
   ]
  },
  {
   "cell_type": "code",
   "execution_count": 1,
   "metadata": {},
   "outputs": [
    {
     "data": {
      "text/plain": [
       "array([[  0.        ,   0.        , -75.00123728],\n",
       "       [  0.        ,   0.        , -75.00123728],\n",
       "       [  0.        ,   0.        , -75.00123728],\n",
       "       [  0.        ,   0.        , -75.00123728],\n",
       "       [  0.        ,   0.        , -75.00123728],\n",
       "       [  0.        ,   0.        , -75.00123728],\n",
       "       [  0.        ,   0.        , -75.00123728],\n",
       "       [  0.        ,   0.        , -75.00123728],\n",
       "       [  0.        ,   0.        , -75.00123728],\n",
       "       [  0.        ,   0.        , -75.00123728],\n",
       "       [  0.        ,   0.        , -75.00123728],\n",
       "       [  0.        ,   0.        , -75.00123728],\n",
       "       [  0.        ,   0.        , -75.00123728],\n",
       "       [  0.        ,   0.        , -75.00123728],\n",
       "       [  0.        ,   0.        , -75.00123728],\n",
       "       [  0.        ,   0.        , -75.00123728]])"
      ]
     },
     "execution_count": 1,
     "metadata": {},
     "output_type": "execute_result"
    }
   ],
   "source": [
    "from ase.io import read\n",
    "\n",
    "leadL = read('/personal/DeepTB/dptb_Zjj/DeePTB/dptb/negf/bloch_files/negf_out/stru_lead_fold_lead_L.xyz')\n",
    "leadR = read('/personal/DeepTB/dptb_Zjj/DeePTB/dptb/negf/bloch_files/negf_out/stru_lead_fold_lead_R.xyz')\n",
    "leadL[:int(len(leadL)/2)].get_positions()-leadR[int(len(leadR)/2):].get_positions() "
   ]
  },
  {
   "cell_type": "code",
   "execution_count": 13,
   "metadata": {},
   "outputs": [
    {
     "data": {
      "text/plain": [
       "array([  0,   1,  16,  17,  32,  33,   2,   3,  18,  19,  34,  35,  48,\n",
       "        49,  64,  65,  80,  81,  50,  51,  66,  67,  82,  83,  96,  97,\n",
       "       112, 113, 128, 129,  98,  99, 114, 115, 130, 131,   4,   5,  20,\n",
       "        21,  36,  37,   6,   7,  22,  23,  38,  39,  52,  53,  68,  69,\n",
       "        84,  85,  54,  55,  70,  71,  86,  87, 100, 101, 116, 117, 132,\n",
       "       133, 102, 103, 118, 119, 134, 135,   8,   9,  24,  25,  40,  41,\n",
       "        10,  11,  26,  27,  42,  43,  56,  57,  72,  73,  88,  89,  58,\n",
       "        59,  74,  75,  90,  91, 104, 105, 120, 121, 136, 137, 106, 107,\n",
       "       122, 123, 138, 139,  12,  13,  28,  29,  44,  45,  14,  15,  30,\n",
       "        31,  46,  47,  60,  61,  76,  77,  92,  93,  62,  63,  78,  79,\n",
       "        94,  95, 108, 109, 124, 125, 140, 141, 110, 111, 126, 127, 142,\n",
       "       143])"
      ]
     },
     "execution_count": 13,
     "metadata": {},
     "output_type": "execute_result"
    }
   ],
   "source": [
    "stru_lead_fold = leadL\n",
    "from ase.io import read\n",
    "import numpy as np\n",
    "import torch\n",
    "\n",
    "bloch_factor = [3,3,1]\n",
    "struct_leadall = read('/personal/DeepTB/dptb_Zjj/DeePTB/dptb/negf/bloch_files/negf_out/stru_leadall_lead_L.xyz')\n",
    "cell = struct_leadall.get_cell()\n",
    "bloch_reduce_cell_L = np.array([\n",
    "    [cell[0][0]/bloch_factor[0], 0, 0],\n",
    "    [0, cell[1][1]/bloch_factor[1], 0],\n",
    "    [0, 0, cell[2][2]]\n",
    "])\n",
    "bloch_reduce_cell_L = torch.from_numpy(bloch_reduce_cell_L)\n",
    "\n",
    "\n",
    "stru_lead_fold_1PL = stru_lead_fold[:int(len(stru_lead_fold)/2)] \n",
    "bloch_R_list = []; expand_pos = []\n",
    "for rz in range(bloch_factor[2]):\n",
    "    for ry in range(bloch_factor[1]):\n",
    "        for rx in range(bloch_factor[0]):     \n",
    "            R = torch.tensor([rx,ry,rz],dtype=torch.float64)\n",
    "            bloch_R_list.append(R)\n",
    "            for id in range(len(stru_lead_fold_1PL)):\n",
    "                pos = torch.tensor(stru_lead_fold_1PL.positions[id]) + \\\n",
    "                    R[0]*bloch_reduce_cell_L[0] + R[1]*bloch_reduce_cell_L[1]\n",
    "                expand_pos.append(pos)            \n",
    "expand_pos_L = torch.stack(expand_pos) # expand_pos is for 1 PL\n",
    "assert len(expand_pos_L) == int(len(struct_leadall)/2)\n",
    "sorted_indices_L = np.lexsort((expand_pos_L.numpy()[:, 0], expand_pos_L.numpy()[:, 1], expand_pos_L.numpy()[:, 2]))\n",
    "sorted_indices_L"
   ]
  },
  {
   "cell_type": "code",
   "execution_count": 12,
   "metadata": {},
   "outputs": [
    {
     "data": {
      "text/plain": [
       "array([  0,   1,  16,  17,  32,  33,   2,   3,  18,  19,  34,  35,  48,\n",
       "        49,  64,  65,  80,  81,  50,  51,  66,  67,  82,  83,  96,  97,\n",
       "       112, 113, 128, 129,  98,  99, 114, 115, 130, 131,   4,   5,  20,\n",
       "        21,  36,  37,   6,   7,  22,  23,  38,  39,  52,  53,  68,  69,\n",
       "        84,  85,  54,  55,  70,  71,  86,  87, 100, 101, 116, 117, 132,\n",
       "       133, 102, 103, 118, 119, 134, 135,   8,   9,  24,  25,  40,  41,\n",
       "        10,  11,  26,  27,  42,  43,  56,  57,  72,  73,  88,  89,  58,\n",
       "        59,  74,  75,  90,  91, 104, 105, 120, 121, 136, 137, 106, 107,\n",
       "       122, 123, 138, 139,  12,  13,  28,  29,  44,  45,  14,  15,  30,\n",
       "        31,  46,  47,  60,  61,  76,  77,  92,  93,  62,  63,  78,  79,\n",
       "        94,  95, 108, 109, 124, 125, 140, 141, 110, 111, 126, 127, 142,\n",
       "       143])"
      ]
     },
     "execution_count": 12,
     "metadata": {},
     "output_type": "execute_result"
    }
   ],
   "source": [
    "stru_lead_fold = leadR\n",
    "from ase.io import read\n",
    "import numpy as np\n",
    "import torch\n",
    "\n",
    "bloch_factor = [3,3,1]\n",
    "struct_leadall = read('/personal/DeepTB/dptb_Zjj/DeePTB/dptb/negf/bloch_files/negf_out/stru_leadall_lead_R.xyz')\n",
    "cell = struct_leadall.get_cell()\n",
    "bloch_reduce_cell = np.array([\n",
    "    [cell[0][0]/bloch_factor[0], 0, 0],\n",
    "    [0, cell[1][1]/bloch_factor[1], 0],\n",
    "    [0, 0, cell[2][2]]\n",
    "])\n",
    "bloch_reduce_cell = torch.from_numpy(bloch_reduce_cell)\n",
    "\n",
    "\n",
    "stru_lead_fold_1PL = stru_lead_fold[:int(len(stru_lead_fold)/2)] \n",
    "bloch_R_list = []; expand_pos = []\n",
    "for rz in range(bloch_factor[2]):\n",
    "    for ry in range(bloch_factor[1]):\n",
    "        for rx in range(bloch_factor[0]):     \n",
    "            R = torch.tensor([rx,ry,rz],dtype=torch.float64)\n",
    "            existsR = any(torch.equal(R, t) for t in bloch_R_list)\n",
    "            if existsR:\n",
    "                print(str(R)+\"is in the list\")\n",
    "            bloch_R_list.append(R)\n",
    "            for id in range(len(stru_lead_fold_1PL)):\n",
    "                R = torch.tensor([rx,ry,rz],dtype=torch.float64)\n",
    "                pos = torch.tensor(stru_lead_fold_1PL.positions[id]) + R[0]*bloch_reduce_cell[0] + R[1]*bloch_reduce_cell[1]\n",
    "                expand_pos.append(pos)  \n",
    "                      \n",
    "expand_pos_R = torch.stack(expand_pos) # expand_pos is for 1 PL\n",
    "assert len(expand_pos_R) == int(len(struct_leadall)/2)\n",
    "sorted_indices_R = np.lexsort((expand_pos_R.numpy()[:, 0], expand_pos_R.numpy()[:, 1], expand_pos_R.numpy()[:, 2]))\n",
    "sorted_indices_R"
   ]
  },
  {
   "cell_type": "code",
   "execution_count": 14,
   "metadata": {},
   "outputs": [
    {
     "data": {
      "text/plain": [
       "array([0, 0, 0, 0, 0, 0, 0, 0, 0, 0, 0, 0, 0, 0, 0, 0, 0, 0, 0, 0, 0, 0,\n",
       "       0, 0, 0, 0, 0, 0, 0, 0, 0, 0, 0, 0, 0, 0, 0, 0, 0, 0, 0, 0, 0, 0,\n",
       "       0, 0, 0, 0, 0, 0, 0, 0, 0, 0, 0, 0, 0, 0, 0, 0, 0, 0, 0, 0, 0, 0,\n",
       "       0, 0, 0, 0, 0, 0, 0, 0, 0, 0, 0, 0, 0, 0, 0, 0, 0, 0, 0, 0, 0, 0,\n",
       "       0, 0, 0, 0, 0, 0, 0, 0, 0, 0, 0, 0, 0, 0, 0, 0, 0, 0, 0, 0, 0, 0,\n",
       "       0, 0, 0, 0, 0, 0, 0, 0, 0, 0, 0, 0, 0, 0, 0, 0, 0, 0, 0, 0, 0, 0,\n",
       "       0, 0, 0, 0, 0, 0, 0, 0, 0, 0, 0, 0])"
      ]
     },
     "execution_count": 14,
     "metadata": {},
     "output_type": "execute_result"
    }
   ],
   "source": [
    "sorted_indices_R-sorted_indices_L"
   ]
  },
  {
   "cell_type": "code",
   "execution_count": 90,
   "metadata": {},
   "outputs": [
    {
     "data": {
      "text/plain": [
       "(32, 3)"
      ]
     },
     "execution_count": 90,
     "metadata": {},
     "output_type": "execute_result"
    }
   ],
   "source": [
    "stru_lead_fold.positions.shape"
   ]
  },
  {
   "cell_type": "code",
   "execution_count": 44,
   "metadata": {},
   "outputs": [
    {
     "name": "stdout",
     "output_type": "stream",
     "text": [
      "421.7643860941\n"
     ]
    }
   ],
   "source": [
    "mask_diff = abs(sorted_indices_R-sorted_indices_L)>0\n",
    "mask_diff = mask_diff.tolist()\n",
    "expand_pos_L[mask_diff]-expand_pos_R[mask_diff]\n",
    "print(\"{:.10f}\".format(torch.norm(expand_pos_L[mask_diff][:,2]-expand_pos_R[mask_diff][:,2])))"
   ]
  },
  {
   "cell_type": "code",
   "execution_count": 2,
   "metadata": {},
   "outputs": [
    {
     "name": "stdout",
     "output_type": "stream",
     "text": [
      "[2 0 1]\n"
     ]
    }
   ],
   "source": [
    "import numpy as np\n",
    "from scipy.spatial import KDTree\n",
    "\n",
    "# 假设 A 和 B 是给定的 numpy array\n",
    "A = np.array([[1, 2, 3], [4, 5, 6], [7, 8, 9]])\n",
    "B = np.array([[4.0001, 5.0001, 6.0001], [7.0001, 8.0001, 9.0001], [1.0001, 2.0001, 3.0001]])\n",
    "\n",
    "# 构建 KD 树\n",
    "tree = KDTree(B)\n",
    "\n",
    "# 查询 A 中每个点在 B 中的最近邻\n",
    "distances, indices = tree.query(A, k=1, eps=1e-4)\n",
    "\n",
    "# 验证结果\n",
    "print(indices)\n"
   ]
  },
  {
   "cell_type": "code",
   "execution_count": 12,
   "metadata": {},
   "outputs": [
    {
     "ename": "AttributeError",
     "evalue": "attribute 'dtype' of 'torch._C._TensorBase' objects is not writable",
     "output_type": "error",
     "traceback": [
      "\u001b[0;31m---------------------------------------------------------------------------\u001b[0m",
      "\u001b[0;31mAttributeError\u001b[0m                            Traceback (most recent call last)",
      "Cell \u001b[0;32mIn[12], line 2\u001b[0m\n\u001b[1;32m      1\u001b[0m A_ \u001b[38;5;241m=\u001b[39m torch\u001b[38;5;241m.\u001b[39mfrom_numpy(A)\n\u001b[0;32m----> 2\u001b[0m \u001b[43mA_\u001b[49m\u001b[38;5;241;43m.\u001b[39;49m\u001b[43mdtype\u001b[49m \u001b[38;5;241m=\u001b[39m torch\u001b[38;5;241m.\u001b[39mfloat32\n",
      "\u001b[0;31mAttributeError\u001b[0m: attribute 'dtype' of 'torch._C._TensorBase' objects is not writable"
     ]
    }
   ],
   "source": [
    "A_ = torch.from_numpy(A)"
   ]
  },
  {
   "cell_type": "code",
   "execution_count": 17,
   "metadata": {},
   "outputs": [],
   "source": [
    "distm = torch.cdist(torch.from_numpy(A).float(),torch.from_numpy(B).float())\n",
    "min_dist, min_idx = torch.min(distm,dim=1)"
   ]
  },
  {
   "cell_type": "code",
   "execution_count": 19,
   "metadata": {},
   "outputs": [
    {
     "data": {
      "text/plain": [
       "tensor([0.0002, 0.0002, 0.0002])"
      ]
     },
     "execution_count": 19,
     "metadata": {},
     "output_type": "execute_result"
    }
   ],
   "source": [
    "min_dist"
   ]
  },
  {
   "cell_type": "code",
   "execution_count": 18,
   "metadata": {},
   "outputs": [
    {
     "data": {
      "text/plain": [
       "tensor([2, 0, 1])"
      ]
     },
     "execution_count": 18,
     "metadata": {},
     "output_type": "execute_result"
    }
   ],
   "source": [
    "min_idx"
   ]
  },
  {
   "cell_type": "code",
   "execution_count": 83,
   "metadata": {},
   "outputs": [
    {
     "data": {
      "text/plain": [
       "tensor([0., 0., 0.], dtype=torch.float64)"
      ]
     },
     "execution_count": 83,
     "metadata": {},
     "output_type": "execute_result"
    }
   ],
   "source": [
    "expand_pos[16]-expand_pos[48]"
   ]
  },
  {
   "cell_type": "code",
   "execution_count": 72,
   "metadata": {},
   "outputs": [
    {
     "name": "stdout",
     "output_type": "stream",
     "text": [
      "坐标 (5.879226303333334, 5.879226303333334, 72.56603110333334) 在索引 [16, 48] 处重复\n",
      "坐标 (5.879226303333334, 5.879226303333334, 76.72313062333333) 在索引 [24, 56] 处重复\n",
      "坐标 (5.879226303333334, 8.818845333333334, 72.56603110333334) 在索引 [18, 50] 处重复\n",
      "坐标 (5.879226303333334, 8.818845333333334, 76.72313062333333) 在索引 [26, 58] 处重复\n",
      "坐标 (7.349032293333334, 7.349032293333334, 74.64458086333335) 在索引 [20, 52] 处重复\n",
      "坐标 (7.349032293333334, 7.349032293333334, 78.80191382333334) 在索引 [28, 60] 处重复\n",
      "坐标 (7.349032293333334, 10.288646033333332, 74.64458086333335) 在索引 [22, 54] 处重复\n",
      "坐标 (7.349032293333334, 10.288646033333332, 78.80191382333334) 在索引 [30, 62] 处重复\n",
      "坐标 (8.818845333333334, 5.879226303333334, 72.56603110333334) 在索引 [17, 49] 处重复\n",
      "坐标 (8.818845333333334, 5.879226303333334, 76.72313062333333) 在索引 [25, 57] 处重复\n",
      "坐标 (8.818845333333334, 8.818845333333334, 72.56603110333334) 在索引 [19, 51] 处重复\n",
      "坐标 (8.818845333333334, 8.818845333333334, 76.72313062333333) 在索引 [27, 59] 处重复\n",
      "坐标 (10.288646033333332, 7.349032293333334, 74.64458086333335) 在索引 [21, 53] 处重复\n",
      "坐标 (10.288646033333332, 7.349032293333334, 78.80191382333334) 在索引 [29, 61] 处重复\n",
      "坐标 (10.288646033333332, 10.288646033333332, 74.64458086333335) 在索引 [23, 55] 处重复\n",
      "坐标 (10.288646033333332, 10.288646033333332, 78.80191382333334) 在索引 [31, 63] 处重复\n",
      "坐标 (11.758452606666667, 11.758452606666667, 78.44525740666667) 在索引 [32, 96] 处重复\n",
      "坐标 (11.758452606666667, 11.758452606666667, 82.60235692666666) 在索引 [40, 104] 处重复\n",
      "坐标 (11.758452606666667, 14.698071636666667, 78.44525740666667) 在索引 [34, 98] 处重复\n",
      "坐标 (11.758452606666667, 14.698071636666667, 82.60235692666666) 在索引 [42, 106] 处重复\n",
      "坐标 (13.228258596666667, 13.228258596666667, 80.52380716666667) 在索引 [36, 100] 处重复\n",
      "坐标 (13.228258596666667, 13.228258596666667, 84.68114012666666) 在索引 [44, 108] 处重复\n",
      "坐标 (13.228258596666667, 16.16787233666667, 80.52380716666667) 在索引 [38, 102] 处重复\n",
      "坐标 (13.228258596666667, 16.16787233666667, 84.68114012666666) 在索引 [46, 110] 处重复\n",
      "坐标 (14.698071636666667, 11.758452606666667, 78.44525740666667) 在索引 [33, 97] 处重复\n",
      "坐标 (14.698071636666667, 11.758452606666667, 82.60235692666666) 在索引 [41, 105] 处重复\n",
      "坐标 (14.698071636666667, 14.698071636666667, 78.44525740666667) 在索引 [35, 99] 处重复\n",
      "坐标 (14.698071636666667, 14.698071636666667, 82.60235692666666) 在索引 [43, 107] 处重复\n",
      "坐标 (16.16787233666667, 13.228258596666667, 80.52380716666667) 在索引 [37, 101] 处重复\n",
      "坐标 (16.16787233666667, 13.228258596666667, 84.68114012666666) 在索引 [45, 109] 处重复\n",
      "坐标 (16.16787233666667, 16.16787233666667, 80.52380716666667) 在索引 [39, 103] 处重复\n",
      "坐标 (16.16787233666667, 16.16787233666667, 84.68114012666666) 在索引 [47, 111] 处重复\n",
      "坐标 (17.63767891, 17.63767891, 84.32448371000001) 在索引 [80, 112] 处重复\n",
      "坐标 (17.63767891, 17.63767891, 88.48158323) 在索引 [88, 120] 处重复\n",
      "坐标 (17.63767891, 20.57729794, 84.32448371000001) 在索引 [82, 114] 处重复\n",
      "坐标 (17.63767891, 20.57729794, 88.48158323) 在索引 [90, 122] 处重复\n",
      "坐标 (20.57729794, 17.63767891, 84.32448371000001) 在索引 [81, 113] 处重复\n",
      "坐标 (20.57729794, 17.63767891, 88.48158323) 在索引 [89, 121] 处重复\n",
      "坐标 (20.57729794, 20.57729794, 84.32448371000001) 在索引 [83, 115] 处重复\n",
      "坐标 (20.57729794, 20.57729794, 88.48158323) 在索引 [91, 123] 处重复\n",
      "坐标 (22.04709864, 22.04709864, 86.40303347000001) 在索引 [87, 119] 处重复\n",
      "坐标 (22.04709864, 22.04709864, 90.56036643) 在索引 [95, 127] 处重复\n"
     ]
    }
   ],
   "source": [
    "import torch\n",
    "\n",
    "# 创建一个 (N, 3) 的张量\n",
    "coordinates = expand_pos_R\n",
    "\n",
    "# 使用 torch.unique 进行去重并返回反向索引\n",
    "unique_coords, inverse_indices, counts = torch.unique(coordinates, return_inverse=True, return_counts=True, dim=0)\n",
    "\n",
    "# 找出重复的坐标及其索引\n",
    "duplicate_indices = {}\n",
    "for i, count in enumerate(counts):\n",
    "    if count > 1:\n",
    "        duplicate_indices[tuple(unique_coords[i].tolist())] = (inverse_indices == i).nonzero(as_tuple=True)[0].tolist()\n",
    "\n",
    "# 输出重复坐标及其索引\n",
    "for coord, indices in duplicate_indices.items():\n",
    "    print(f\"坐标 {coord} 在索引 {indices} 处重复\")\n"
   ]
  },
  {
   "cell_type": "code",
   "execution_count": 32,
   "metadata": {},
   "outputs": [
    {
     "data": {
      "image/png": "[encoded data removed]",
      "text/plain": [
       "<Figure size 640x480 with 1 Axes>"
      ]
     },
     "metadata": {},
     "output_type": "display_data"
    }
   ],
   "source": [
    "import matplotlib.pyplot as plt\n",
    "plt.plot(expand_pos_L[:,0] - expand_pos_R[:,0])\n",
    "plt.show()"
   ]
  }
 ],
 "metadata": {
  "kernelspec": {
   "display_name": "deeptb-dev",
   "language": "python",
   "name": "python3"
  },
  "language_info": {
   "codemirror_mode": {
    "name": "ipython",
    "version": 3
   },
   "file_extension": ".py",
   "mimetype": "text/x-python",
   "name": "python",
   "nbconvert_exporter": "python",
   "pygments_lexer": "ipython3",
   "version": "3.10.13"
  }
 },
 "nbformat": 4,
 "nbformat_minor": 2
}
